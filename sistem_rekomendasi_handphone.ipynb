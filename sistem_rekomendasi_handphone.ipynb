{
  "cells": [
    {
      "cell_type": "code",
      "execution_count": null,
      "metadata": {
        "id": "t7lufIioOARN"
      },
      "outputs": [],
      "source": [
        "# SISTEM REKOMENDASI HANDPHONE\n",
        "# Dengan Metode User Based Collaborative Filtering Berbasis Algoritma SVD (Singular Value Decomposition)"
      ]
    },
    {
      "cell_type": "code",
      "execution_count": null,
      "metadata": {
        "id": "s_TC5qMAOARQ"
      },
      "outputs": [],
      "source": [
        "# Import library\n",
        "import numpy as np\n",
        "import pandas as pd\n",
        "import math\n",
        "import json\n",
        "import time\n",
        "import matplotlib.pyplot as plt\n",
        "import seaborn as sns\n",
        "from sklearn.model_selection import train_test_split\n",
        "import scipy.sparse\n",
        "from scipy.sparse import csr_matrix\n",
        "import warnings; warnings.simplefilter('ignore')\n",
        "%matplotlib inline"
      ]
    },
    {
      "cell_type": "code",
      "execution_count": null,
      "metadata": {
        "id": "3Cr0WSVWOARR"
      },
      "outputs": [],
      "source": [
        "# Import data set\n",
        "datasetReviews = pd.read_csv('20191226-reviews.csv')\n",
        "datasetItems = pd.read_csv('20191226-items.csv')\n",
        "datasetItems = datasetItems.dropna(axis = 1)\n",
        "dataset = pd.merge(datasetReviews,datasetItems, on='asin')\n",
        "dataset.to_csv(\"merged_output\", index=False)\n"
      ]
    },
    {
      "cell_type": "code",
      "execution_count": null,
      "metadata": {
        "id": "hzV9WOZkOARS",
        "outputId": "7710a508-59c2-4c80-c59f-3961e9874a0f"
      },
      "outputs": [
        {
          "output_type": "execute_result",
          "data": {
            "text/plain": [
              "         asin                                              title  \\\n",
              "0  B0000SX2UC  Dual-Band / Tri-Mode Sprint PCS Phone w/ Voice...   \n",
              "\n",
              "                                                 url  \\\n",
              "0  https://www.amazon.com/Dual-Band-Tri-Mode-Acti...   \n",
              "\n",
              "                                               image  rating  \\\n",
              "0  https://m.media-amazon.com/images/I/2143EBQ210...     3.0   \n",
              "\n",
              "                                           reviewUrl  totalReviews  price  \\\n",
              "0  https://www.amazon.com/product-reviews/B0000SX2UC            14    0.0   \n",
              "\n",
              "   originalPrice  \n",
              "0            0.0  "
            ],
            "text/html": "<div>\n<style scoped>\n    .dataframe tbody tr th:only-of-type {\n        vertical-align: middle;\n    }\n\n    .dataframe tbody tr th {\n        vertical-align: top;\n    }\n\n    .dataframe thead th {\n        text-align: right;\n    }\n</style>\n<table border=\"1\" class=\"dataframe\">\n  <thead>\n    <tr style=\"text-align: right;\">\n      <th></th>\n      <th>asin</th>\n      <th>title</th>\n      <th>url</th>\n      <th>image</th>\n      <th>rating</th>\n      <th>reviewUrl</th>\n      <th>totalReviews</th>\n      <th>price</th>\n      <th>originalPrice</th>\n    </tr>\n  </thead>\n  <tbody>\n    <tr>\n      <th>0</th>\n      <td>B0000SX2UC</td>\n      <td>Dual-Band / Tri-Mode Sprint PCS Phone w/ Voice...</td>\n      <td>https://www.amazon.com/Dual-Band-Tri-Mode-Acti...</td>\n      <td>https://m.media-amazon.com/images/I/2143EBQ210...</td>\n      <td>3.0</td>\n      <td>https://www.amazon.com/product-reviews/B0000SX2UC</td>\n      <td>14</td>\n      <td>0.0</td>\n      <td>0.0</td>\n    </tr>\n  </tbody>\n</table>\n</div>"
          },
          "metadata": {},
          "execution_count": 5
        }
      ],
      "source": [
        "datasetItems.head(1)"
      ]
    },
    {
      "cell_type": "code",
      "execution_count": null,
      "metadata": {
        "id": "LUszaWGBOART",
        "outputId": "89b23fb2-eb96-4cc3-dde0-0942d920eeaa"
      },
      "outputs": [
        {
          "output_type": "execute_result",
          "data": {
            "text/plain": [
              "         asin   name  rating              date  verified  \\\n",
              "0  B0000SX2UC  Janet       3  October 11, 2005     False   \n",
              "\n",
              "                         title  \\\n",
              "0  Def not best, but not worst   \n",
              "\n",
              "                                                body  helpfulVotes  \n",
              "0  I had the Samsung A600 for awhile which is abs...           1.0  "
            ],
            "text/html": "<div>\n<style scoped>\n    .dataframe tbody tr th:only-of-type {\n        vertical-align: middle;\n    }\n\n    .dataframe tbody tr th {\n        vertical-align: top;\n    }\n\n    .dataframe thead th {\n        text-align: right;\n    }\n</style>\n<table border=\"1\" class=\"dataframe\">\n  <thead>\n    <tr style=\"text-align: right;\">\n      <th></th>\n      <th>asin</th>\n      <th>name</th>\n      <th>rating</th>\n      <th>date</th>\n      <th>verified</th>\n      <th>title</th>\n      <th>body</th>\n      <th>helpfulVotes</th>\n    </tr>\n  </thead>\n  <tbody>\n    <tr>\n      <th>0</th>\n      <td>B0000SX2UC</td>\n      <td>Janet</td>\n      <td>3</td>\n      <td>October 11, 2005</td>\n      <td>False</td>\n      <td>Def not best, but not worst</td>\n      <td>I had the Samsung A600 for awhile which is abs...</td>\n      <td>1.0</td>\n    </tr>\n  </tbody>\n</table>\n</div>"
          },
          "metadata": {},
          "execution_count": 6
        }
      ],
      "source": [
        "datasetReviews.head(1)"
      ]
    },
    {
      "cell_type": "code",
      "execution_count": null,
      "metadata": {
        "id": "b7N1te0GOART",
        "outputId": "812bbb4d-e2cd-4533-8ef0-b6392f5354f5"
      },
      "outputs": [
        {
          "output_type": "execute_result",
          "data": {
            "text/plain": [
              "         asin   name  rating_x              date  verified  \\\n",
              "0  B0000SX2UC  Janet         3  October 11, 2005     False   \n",
              "\n",
              "                       title_x  \\\n",
              "0  Def not best, but not worst   \n",
              "\n",
              "                                                body  helpfulVotes  \\\n",
              "0  I had the Samsung A600 for awhile which is abs...           1.0   \n",
              "\n",
              "                                             title_y  \\\n",
              "0  Dual-Band / Tri-Mode Sprint PCS Phone w/ Voice...   \n",
              "\n",
              "                                                 url  \\\n",
              "0  https://www.amazon.com/Dual-Band-Tri-Mode-Acti...   \n",
              "\n",
              "                                               image  rating_y  \\\n",
              "0  https://m.media-amazon.com/images/I/2143EBQ210...       3.0   \n",
              "\n",
              "                                           reviewUrl  totalReviews  price  \\\n",
              "0  https://www.amazon.com/product-reviews/B0000SX2UC            14    0.0   \n",
              "\n",
              "   originalPrice  \n",
              "0            0.0  "
            ],
            "text/html": "<div>\n<style scoped>\n    .dataframe tbody tr th:only-of-type {\n        vertical-align: middle;\n    }\n\n    .dataframe tbody tr th {\n        vertical-align: top;\n    }\n\n    .dataframe thead th {\n        text-align: right;\n    }\n</style>\n<table border=\"1\" class=\"dataframe\">\n  <thead>\n    <tr style=\"text-align: right;\">\n      <th></th>\n      <th>asin</th>\n      <th>name</th>\n      <th>rating_x</th>\n      <th>date</th>\n      <th>verified</th>\n      <th>title_x</th>\n      <th>body</th>\n      <th>helpfulVotes</th>\n      <th>title_y</th>\n      <th>url</th>\n      <th>image</th>\n      <th>rating_y</th>\n      <th>reviewUrl</th>\n      <th>totalReviews</th>\n      <th>price</th>\n      <th>originalPrice</th>\n    </tr>\n  </thead>\n  <tbody>\n    <tr>\n      <th>0</th>\n      <td>B0000SX2UC</td>\n      <td>Janet</td>\n      <td>3</td>\n      <td>October 11, 2005</td>\n      <td>False</td>\n      <td>Def not best, but not worst</td>\n      <td>I had the Samsung A600 for awhile which is abs...</td>\n      <td>1.0</td>\n      <td>Dual-Band / Tri-Mode Sprint PCS Phone w/ Voice...</td>\n      <td>https://www.amazon.com/Dual-Band-Tri-Mode-Acti...</td>\n      <td>https://m.media-amazon.com/images/I/2143EBQ210...</td>\n      <td>3.0</td>\n      <td>https://www.amazon.com/product-reviews/B0000SX2UC</td>\n      <td>14</td>\n      <td>0.0</td>\n      <td>0.0</td>\n    </tr>\n  </tbody>\n</table>\n</div>"
          },
          "metadata": {},
          "execution_count": 7
        }
      ],
      "source": [
        "dataset.head(1)"
      ]
    },
    {
      "cell_type": "code",
      "execution_count": null,
      "metadata": {
        "id": "KEDrbblYOART",
        "outputId": "281c4e81-a4a4-4e45-c520-af24a7eb1408"
      },
      "outputs": [
        {
          "output_type": "stream",
          "name": "stdout",
          "text": [
            "Jumlah nilai yang kosong sebelum di hilangkan data null nya \n asin                 0\nname                 2\nrating_x             0\ndate                 0\nverified             0\ntitle_x             14\nbody                21\nhelpfulVotes     40771\ntitle_y              0\nurl                  0\nimage                0\nrating_y             0\nreviewUrl            0\ntotalReviews         0\nprice                0\noriginalPrice        0\ndtype: int64\n"
          ]
        }
      ],
      "source": [
        "print('Jumlah nilai yang kosong sebelum di hilangkan data null nya \\n', dataset.isnull().sum())"
      ]
    },
    {
      "cell_type": "code",
      "execution_count": null,
      "metadata": {
        "id": "A1tm8eXIOARU"
      },
      "outputs": [],
      "source": [
        "# Drop kolom yang tidak terpakai\n",
        "dataset = dataset.drop(['date', 'verified','title_x','body','helpfulVotes','url','rating_y','reviewUrl','totalReviews','image','price','originalPrice' ], axis = 1) "
      ]
    },
    {
      "cell_type": "code",
      "execution_count": null,
      "metadata": {
        "id": "yvyBX9UEOARU",
        "outputId": "49ba41c7-6679-4b93-905d-b74d4f16e4ee"
      },
      "outputs": [
        {
          "output_type": "execute_result",
          "data": {
            "text/plain": [
              "asin        object\n",
              "name        object\n",
              "rating_x     int64\n",
              "title_y     object\n",
              "dtype: object"
            ]
          },
          "metadata": {},
          "execution_count": 10
        }
      ],
      "source": [
        "# Mengecek tipe datanya\n",
        "dataset.dtypes"
      ]
    },
    {
      "cell_type": "code",
      "execution_count": null,
      "metadata": {
        "id": "UjE0AKDGOARV",
        "outputId": "15efa7f8-7e99-47ad-be2f-6b451a035964"
      },
      "outputs": [
        {
          "output_type": "stream",
          "name": "stdout",
          "text": [
            "Jumlah nilai yang kosong\n asin        0\nname        2\nrating_x    0\ntitle_y     0\ndtype: int64\n"
          ]
        }
      ],
      "source": [
        "# Mengecek null\n",
        "print('Jumlah nilai yang kosong\\n', dataset.isnull().sum())"
      ]
    },
    {
      "cell_type": "code",
      "execution_count": null,
      "metadata": {
        "id": "Yka7xkLfOARV",
        "outputId": "cb28d041-11c0-459a-b3c5-3f74072661cc"
      },
      "outputs": [
        {
          "output_type": "execute_result",
          "data": {
            "text/plain": [
              "asin        0\n",
              "name        0\n",
              "rating_x    0\n",
              "title_y     0\n",
              "dtype: int64"
            ]
          },
          "metadata": {},
          "execution_count": 12
        }
      ],
      "source": [
        "# Menghapus baris yang data namanya kosong\n",
        "dataset.dropna(inplace=True)\n",
        "dataset.isnull().sum()"
      ]
    },
    {
      "cell_type": "code",
      "execution_count": null,
      "metadata": {
        "id": "3VbI8jcfOARW",
        "outputId": "9db61525-8cb5-4f6f-ae37-eab2c49f615f"
      },
      "outputs": [
        {
          "output_type": "execute_result",
          "data": {
            "text/plain": [
              "             asin               name  rating_x  \\\n",
              "67981  B081H6STQQ              jande         5   \n",
              "67982  B081H6STQQ            2cool4u         5   \n",
              "67983  B081H6STQQ              simon         5   \n",
              "67984  B081TJFVCJ  Tobiasz Jedrysiak         5   \n",
              "67985  B0825BB7SG      Owen Gonzalez         5   \n",
              "\n",
              "                                                 title_y  \n",
              "67981  Sony Xperia 1 Unlocked Smartphone and WH1000XM...  \n",
              "67982  Sony Xperia 1 Unlocked Smartphone and WH1000XM...  \n",
              "67983  Sony Xperia 1 Unlocked Smartphone and WH1000XM...  \n",
              "67984  Apple iPhone X, 64GB, Gray - Fully Unlocked (R...  \n",
              "67985  Straight Talk Samsung Galaxy A10e Smartphone 5...  "
            ],
            "text/html": "<div>\n<style scoped>\n    .dataframe tbody tr th:only-of-type {\n        vertical-align: middle;\n    }\n\n    .dataframe tbody tr th {\n        vertical-align: top;\n    }\n\n    .dataframe thead th {\n        text-align: right;\n    }\n</style>\n<table border=\"1\" class=\"dataframe\">\n  <thead>\n    <tr style=\"text-align: right;\">\n      <th></th>\n      <th>asin</th>\n      <th>name</th>\n      <th>rating_x</th>\n      <th>title_y</th>\n    </tr>\n  </thead>\n  <tbody>\n    <tr>\n      <th>67981</th>\n      <td>B081H6STQQ</td>\n      <td>jande</td>\n      <td>5</td>\n      <td>Sony Xperia 1 Unlocked Smartphone and WH1000XM...</td>\n    </tr>\n    <tr>\n      <th>67982</th>\n      <td>B081H6STQQ</td>\n      <td>2cool4u</td>\n      <td>5</td>\n      <td>Sony Xperia 1 Unlocked Smartphone and WH1000XM...</td>\n    </tr>\n    <tr>\n      <th>67983</th>\n      <td>B081H6STQQ</td>\n      <td>simon</td>\n      <td>5</td>\n      <td>Sony Xperia 1 Unlocked Smartphone and WH1000XM...</td>\n    </tr>\n    <tr>\n      <th>67984</th>\n      <td>B081TJFVCJ</td>\n      <td>Tobiasz Jedrysiak</td>\n      <td>5</td>\n      <td>Apple iPhone X, 64GB, Gray - Fully Unlocked (R...</td>\n    </tr>\n    <tr>\n      <th>67985</th>\n      <td>B0825BB7SG</td>\n      <td>Owen Gonzalez</td>\n      <td>5</td>\n      <td>Straight Talk Samsung Galaxy A10e Smartphone 5...</td>\n    </tr>\n  </tbody>\n</table>\n</div>"
          },
          "metadata": {},
          "execution_count": 13
        }
      ],
      "source": [
        "# Melihat beberapa baris data dari dataset\n",
        "dataset.tail()"
      ]
    },
    {
      "cell_type": "code",
      "execution_count": null,
      "metadata": {
        "id": "WXLnEo8ZOARW",
        "outputId": "05b16925-b847-4b28-e02f-086d740ba185"
      },
      "outputs": [
        {
          "output_type": "stream",
          "name": "stdout",
          "text": [
            "Jumlah baris:  67984\nJumlah kolom:  4\n"
          ]
        }
      ],
      "source": [
        "# Mengecek jumlah baris dan kolomnya\n",
        "rows, columns = dataset.shape\n",
        "print(\"Jumlah baris: \", rows) \n",
        "print(\"Jumlah kolom: \", columns) "
      ]
    },
    {
      "cell_type": "code",
      "execution_count": null,
      "metadata": {
        "id": "Jx6asRLZOARW",
        "outputId": "0887fba0-af0d-497d-b30c-a4bbeb52e601"
      },
      "outputs": [
        {
          "output_type": "execute_result",
          "data": {
            "text/plain": [
              "            count      mean       std  min  25%  50%  75%  max\n",
              "rating_x  67984.0  3.807911  1.582919  1.0  3.0  5.0  5.0  5.0"
            ],
            "text/html": "<div>\n<style scoped>\n    .dataframe tbody tr th:only-of-type {\n        vertical-align: middle;\n    }\n\n    .dataframe tbody tr th {\n        vertical-align: top;\n    }\n\n    .dataframe thead th {\n        text-align: right;\n    }\n</style>\n<table border=\"1\" class=\"dataframe\">\n  <thead>\n    <tr style=\"text-align: right;\">\n      <th></th>\n      <th>count</th>\n      <th>mean</th>\n      <th>std</th>\n      <th>min</th>\n      <th>25%</th>\n      <th>50%</th>\n      <th>75%</th>\n      <th>max</th>\n    </tr>\n  </thead>\n  <tbody>\n    <tr>\n      <th>rating_x</th>\n      <td>67984.0</td>\n      <td>3.807911</td>\n      <td>1.582919</td>\n      <td>1.0</td>\n      <td>3.0</td>\n      <td>5.0</td>\n      <td>5.0</td>\n      <td>5.0</td>\n    </tr>\n  </tbody>\n</table>\n</div>"
          },
          "metadata": {},
          "execution_count": 15
        }
      ],
      "source": [
        "# Data ringkasan statistik variabel rating\n",
        "dataset[['rating_x']].describe().transpose()"
      ]
    },
    {
      "cell_type": "code",
      "execution_count": null,
      "metadata": {
        "id": "ruHN7MZDOARX",
        "outputId": "a37100c0-2ad5-4d23-b67a-05ec9fc6ea71"
      },
      "outputs": [
        {
          "output_type": "stream",
          "name": "stdout",
          "text": [
            "Rating minimumnya adalah: 1\nRating maksimumnya adalah: 5\n"
          ]
        }
      ],
      "source": [
        "# Mencari nilai min max dari rating\n",
        "\n",
        "def find_min_max_rating():\n",
        "    print('Rating minimumnya adalah: %d' %(dataset['rating_x'].min()))\n",
        "    print('Rating maksimumnya adalah: %d' %(dataset['rating_x'].max()))\n",
        "    \n",
        "find_min_max_rating() "
      ]
    },
    {
      "cell_type": "code",
      "execution_count": null,
      "metadata": {
        "id": "jAqFTUcbOARX",
        "outputId": "773eccdd-3a36-4071-ec8a-af56b4526706"
      },
      "outputs": [
        {
          "output_type": "display_data",
          "data": {
            "text/plain": "<Figure size 720x360 with 1 Axes>",
            "image/svg+xml": "<?xml version=\"1.0\" encoding=\"utf-8\" standalone=\"no\"?>\r\n<!DOCTYPE svg PUBLIC \"-//W3C//DTD SVG 1.1//EN\"\r\n  \"http://www.w3.org/Graphics/SVG/1.1/DTD/svg11.dtd\">\r\n<!-- Created with matplotlib (https://matplotlib.org/) -->\r\n<svg height=\"367.434375pt\" version=\"1.1\" viewBox=\"0 0 730.165625 367.434375\" width=\"730.165625pt\" xmlns=\"http://www.w3.org/2000/svg\" xmlns:xlink=\"http://www.w3.org/1999/xlink\">\r\n <metadata>\r\n  <rdf:RDF xmlns:cc=\"http://creativecommons.org/ns#\" xmlns:dc=\"http://purl.org/dc/elements/1.1/\" xmlns:rdf=\"http://www.w3.org/1999/02/22-rdf-syntax-ns#\">\r\n   <cc:Work>\r\n    <dc:type rdf:resource=\"http://purl.org/dc/dcmitype/StillImage\"/>\r\n    <dc:date>2021-02-07T16:12:28.003507</dc:date>\r\n    <dc:format>image/svg+xml</dc:format>\r\n    <dc:creator>\r\n     <cc:Agent>\r\n      <dc:title>Matplotlib v3.3.2, https://matplotlib.org/</dc:title>\r\n     </cc:Agent>\r\n    </dc:creator>\r\n   </cc:Work>\r\n  </rdf:RDF>\r\n </metadata>\r\n <defs>\r\n  <style type=\"text/css\">*{stroke-linecap:butt;stroke-linejoin:round;}</style>\r\n </defs>\r\n <g id=\"figure_1\">\r\n  <g id=\"patch_1\">\r\n   <path d=\"M -0 367.434375 \r\nL 730.165625 367.434375 \r\nL 730.165625 0 \r\nL -0 0 \r\nz\r\n\" style=\"fill:#ffffff;\"/>\r\n  </g>\r\n  <g id=\"axes_1\">\r\n   <g id=\"patch_2\">\r\n    <path d=\"M 59.690625 329.6 \r\nL 722.965625 329.6 \r\nL 722.965625 7.2 \r\nL 59.690625 7.2 \r\nz\r\n\" style=\"fill:#ffffff;\"/>\r\n   </g>\r\n   <g id=\"matplotlib.axis_1\">\r\n    <g id=\"xtick_1\">\r\n     <g id=\"text_1\">\r\n      <!-- 1 -->\r\n      <g style=\"fill:#262626;\" transform=\"translate(122.836875 344.198437)scale(0.1 -0.1)\">\r\n       <defs>\r\n        <path d=\"M 12.40625 8.296875 \r\nL 28.515625 8.296875 \r\nL 28.515625 63.921875 \r\nL 10.984375 60.40625 \r\nL 10.984375 69.390625 \r\nL 28.421875 72.90625 \r\nL 38.28125 72.90625 \r\nL 38.28125 8.296875 \r\nL 54.390625 8.296875 \r\nL 54.390625 0 \r\nL 12.40625 0 \r\nz\r\n\" id=\"DejaVuSans-49\"/>\r\n       </defs>\r\n       <use xlink:href=\"#DejaVuSans-49\"/>\r\n      </g>\r\n     </g>\r\n    </g>\r\n    <g id=\"xtick_2\">\r\n     <g id=\"text_2\">\r\n      <!-- 2 -->\r\n      <g style=\"fill:#262626;\" transform=\"translate(255.491875 344.198437)scale(0.1 -0.1)\">\r\n       <defs>\r\n        <path d=\"M 19.1875 8.296875 \r\nL 53.609375 8.296875 \r\nL 53.609375 0 \r\nL 7.328125 0 \r\nL 7.328125 8.296875 \r\nQ 12.9375 14.109375 22.625 23.890625 \r\nQ 32.328125 33.6875 34.8125 36.53125 \r\nQ 39.546875 41.84375 41.421875 45.53125 \r\nQ 43.3125 49.21875 43.3125 52.78125 \r\nQ 43.3125 58.59375 39.234375 62.25 \r\nQ 35.15625 65.921875 28.609375 65.921875 \r\nQ 23.96875 65.921875 18.8125 64.3125 \r\nQ 13.671875 62.703125 7.8125 59.421875 \r\nL 7.8125 69.390625 \r\nQ 13.765625 71.78125 18.9375 73 \r\nQ 24.125 74.21875 28.421875 74.21875 \r\nQ 39.75 74.21875 46.484375 68.546875 \r\nQ 53.21875 62.890625 53.21875 53.421875 \r\nQ 53.21875 48.921875 51.53125 44.890625 \r\nQ 49.859375 40.875 45.40625 35.40625 \r\nQ 44.1875 33.984375 37.640625 27.21875 \r\nQ 31.109375 20.453125 19.1875 8.296875 \r\nz\r\n\" id=\"DejaVuSans-50\"/>\r\n       </defs>\r\n       <use xlink:href=\"#DejaVuSans-50\"/>\r\n      </g>\r\n     </g>\r\n    </g>\r\n    <g id=\"xtick_3\">\r\n     <g id=\"text_3\">\r\n      <!-- 3 -->\r\n      <g style=\"fill:#262626;\" transform=\"translate(388.146875 344.198437)scale(0.1 -0.1)\">\r\n       <defs>\r\n        <path d=\"M 40.578125 39.3125 \r\nQ 47.65625 37.796875 51.625 33 \r\nQ 55.609375 28.21875 55.609375 21.1875 \r\nQ 55.609375 10.40625 48.1875 4.484375 \r\nQ 40.765625 -1.421875 27.09375 -1.421875 \r\nQ 22.515625 -1.421875 17.65625 -0.515625 \r\nQ 12.796875 0.390625 7.625 2.203125 \r\nL 7.625 11.71875 \r\nQ 11.71875 9.328125 16.59375 8.109375 \r\nQ 21.484375 6.890625 26.8125 6.890625 \r\nQ 36.078125 6.890625 40.9375 10.546875 \r\nQ 45.796875 14.203125 45.796875 21.1875 \r\nQ 45.796875 27.640625 41.28125 31.265625 \r\nQ 36.765625 34.90625 28.71875 34.90625 \r\nL 20.21875 34.90625 \r\nL 20.21875 43.015625 \r\nL 29.109375 43.015625 \r\nQ 36.375 43.015625 40.234375 45.921875 \r\nQ 44.09375 48.828125 44.09375 54.296875 \r\nQ 44.09375 59.90625 40.109375 62.90625 \r\nQ 36.140625 65.921875 28.71875 65.921875 \r\nQ 24.65625 65.921875 20.015625 65.03125 \r\nQ 15.375 64.15625 9.8125 62.3125 \r\nL 9.8125 71.09375 \r\nQ 15.4375 72.65625 20.34375 73.4375 \r\nQ 25.25 74.21875 29.59375 74.21875 \r\nQ 40.828125 74.21875 47.359375 69.109375 \r\nQ 53.90625 64.015625 53.90625 55.328125 \r\nQ 53.90625 49.265625 50.4375 45.09375 \r\nQ 46.96875 40.921875 40.578125 39.3125 \r\nz\r\n\" id=\"DejaVuSans-51\"/>\r\n       </defs>\r\n       <use xlink:href=\"#DejaVuSans-51\"/>\r\n      </g>\r\n     </g>\r\n    </g>\r\n    <g id=\"xtick_4\">\r\n     <g id=\"text_4\">\r\n      <!-- 4 -->\r\n      <g style=\"fill:#262626;\" transform=\"translate(520.801875 344.198437)scale(0.1 -0.1)\">\r\n       <defs>\r\n        <path d=\"M 37.796875 64.3125 \r\nL 12.890625 25.390625 \r\nL 37.796875 25.390625 \r\nz\r\nM 35.203125 72.90625 \r\nL 47.609375 72.90625 \r\nL 47.609375 25.390625 \r\nL 58.015625 25.390625 \r\nL 58.015625 17.1875 \r\nL 47.609375 17.1875 \r\nL 47.609375 0 \r\nL 37.796875 0 \r\nL 37.796875 17.1875 \r\nL 4.890625 17.1875 \r\nL 4.890625 26.703125 \r\nz\r\n\" id=\"DejaVuSans-52\"/>\r\n       </defs>\r\n       <use xlink:href=\"#DejaVuSans-52\"/>\r\n      </g>\r\n     </g>\r\n    </g>\r\n    <g id=\"xtick_5\">\r\n     <g id=\"text_5\">\r\n      <!-- 5 -->\r\n      <g style=\"fill:#262626;\" transform=\"translate(653.456875 344.198437)scale(0.1 -0.1)\">\r\n       <defs>\r\n        <path d=\"M 10.796875 72.90625 \r\nL 49.515625 72.90625 \r\nL 49.515625 64.59375 \r\nL 19.828125 64.59375 \r\nL 19.828125 46.734375 \r\nQ 21.96875 47.46875 24.109375 47.828125 \r\nQ 26.265625 48.1875 28.421875 48.1875 \r\nQ 40.625 48.1875 47.75 41.5 \r\nQ 54.890625 34.8125 54.890625 23.390625 \r\nQ 54.890625 11.625 47.5625 5.09375 \r\nQ 40.234375 -1.421875 26.90625 -1.421875 \r\nQ 22.3125 -1.421875 17.546875 -0.640625 \r\nQ 12.796875 0.140625 7.71875 1.703125 \r\nL 7.71875 11.625 \r\nQ 12.109375 9.234375 16.796875 8.0625 \r\nQ 21.484375 6.890625 26.703125 6.890625 \r\nQ 35.15625 6.890625 40.078125 11.328125 \r\nQ 45.015625 15.765625 45.015625 23.390625 \r\nQ 45.015625 31 40.078125 35.4375 \r\nQ 35.15625 39.890625 26.703125 39.890625 \r\nQ 22.75 39.890625 18.8125 39.015625 \r\nQ 14.890625 38.140625 10.796875 36.28125 \r\nz\r\n\" id=\"DejaVuSans-53\"/>\r\n       </defs>\r\n       <use xlink:href=\"#DejaVuSans-53\"/>\r\n      </g>\r\n     </g>\r\n    </g>\r\n    <g id=\"text_6\">\r\n     <!-- rating_x -->\r\n     <g style=\"fill:#262626;\" transform=\"translate(371.057031 357.876562)scale(0.1 -0.1)\">\r\n      <defs>\r\n       <path d=\"M 41.109375 46.296875 \r\nQ 39.59375 47.171875 37.8125 47.578125 \r\nQ 36.03125 48 33.890625 48 \r\nQ 26.265625 48 22.1875 43.046875 \r\nQ 18.109375 38.09375 18.109375 28.8125 \r\nL 18.109375 0 \r\nL 9.078125 0 \r\nL 9.078125 54.6875 \r\nL 18.109375 54.6875 \r\nL 18.109375 46.1875 \r\nQ 20.953125 51.171875 25.484375 53.578125 \r\nQ 30.03125 56 36.53125 56 \r\nQ 37.453125 56 38.578125 55.875 \r\nQ 39.703125 55.765625 41.0625 55.515625 \r\nz\r\n\" id=\"DejaVuSans-114\"/>\r\n       <path d=\"M 34.28125 27.484375 \r\nQ 23.390625 27.484375 19.1875 25 \r\nQ 14.984375 22.515625 14.984375 16.5 \r\nQ 14.984375 11.71875 18.140625 8.90625 \r\nQ 21.296875 6.109375 26.703125 6.109375 \r\nQ 34.1875 6.109375 38.703125 11.40625 \r\nQ 43.21875 16.703125 43.21875 25.484375 \r\nL 43.21875 27.484375 \r\nz\r\nM 52.203125 31.203125 \r\nL 52.203125 0 \r\nL 43.21875 0 \r\nL 43.21875 8.296875 \r\nQ 40.140625 3.328125 35.546875 0.953125 \r\nQ 30.953125 -1.421875 24.3125 -1.421875 \r\nQ 15.921875 -1.421875 10.953125 3.296875 \r\nQ 6 8.015625 6 15.921875 \r\nQ 6 25.140625 12.171875 29.828125 \r\nQ 18.359375 34.515625 30.609375 34.515625 \r\nL 43.21875 34.515625 \r\nL 43.21875 35.40625 \r\nQ 43.21875 41.609375 39.140625 45 \r\nQ 35.0625 48.390625 27.6875 48.390625 \r\nQ 23 48.390625 18.546875 47.265625 \r\nQ 14.109375 46.140625 10.015625 43.890625 \r\nL 10.015625 52.203125 \r\nQ 14.9375 54.109375 19.578125 55.046875 \r\nQ 24.21875 56 28.609375 56 \r\nQ 40.484375 56 46.34375 49.84375 \r\nQ 52.203125 43.703125 52.203125 31.203125 \r\nz\r\n\" id=\"DejaVuSans-97\"/>\r\n       <path d=\"M 18.3125 70.21875 \r\nL 18.3125 54.6875 \r\nL 36.8125 54.6875 \r\nL 36.8125 47.703125 \r\nL 18.3125 47.703125 \r\nL 18.3125 18.015625 \r\nQ 18.3125 11.328125 20.140625 9.421875 \r\nQ 21.96875 7.515625 27.59375 7.515625 \r\nL 36.8125 7.515625 \r\nL 36.8125 0 \r\nL 27.59375 0 \r\nQ 17.1875 0 13.234375 3.875 \r\nQ 9.28125 7.765625 9.28125 18.015625 \r\nL 9.28125 47.703125 \r\nL 2.6875 47.703125 \r\nL 2.6875 54.6875 \r\nL 9.28125 54.6875 \r\nL 9.28125 70.21875 \r\nz\r\n\" id=\"DejaVuSans-116\"/>\r\n       <path d=\"M 9.421875 54.6875 \r\nL 18.40625 54.6875 \r\nL 18.40625 0 \r\nL 9.421875 0 \r\nz\r\nM 9.421875 75.984375 \r\nL 18.40625 75.984375 \r\nL 18.40625 64.59375 \r\nL 9.421875 64.59375 \r\nz\r\n\" id=\"DejaVuSans-105\"/>\r\n       <path d=\"M 54.890625 33.015625 \r\nL 54.890625 0 \r\nL 45.90625 0 \r\nL 45.90625 32.71875 \r\nQ 45.90625 40.484375 42.875 44.328125 \r\nQ 39.84375 48.1875 33.796875 48.1875 \r\nQ 26.515625 48.1875 22.3125 43.546875 \r\nQ 18.109375 38.921875 18.109375 30.90625 \r\nL 18.109375 0 \r\nL 9.078125 0 \r\nL 9.078125 54.6875 \r\nL 18.109375 54.6875 \r\nL 18.109375 46.1875 \r\nQ 21.34375 51.125 25.703125 53.5625 \r\nQ 30.078125 56 35.796875 56 \r\nQ 45.21875 56 50.046875 50.171875 \r\nQ 54.890625 44.34375 54.890625 33.015625 \r\nz\r\n\" id=\"DejaVuSans-110\"/>\r\n       <path d=\"M 45.40625 27.984375 \r\nQ 45.40625 37.75 41.375 43.109375 \r\nQ 37.359375 48.484375 30.078125 48.484375 \r\nQ 22.859375 48.484375 18.828125 43.109375 \r\nQ 14.796875 37.75 14.796875 27.984375 \r\nQ 14.796875 18.265625 18.828125 12.890625 \r\nQ 22.859375 7.515625 30.078125 7.515625 \r\nQ 37.359375 7.515625 41.375 12.890625 \r\nQ 45.40625 18.265625 45.40625 27.984375 \r\nz\r\nM 54.390625 6.78125 \r\nQ 54.390625 -7.171875 48.1875 -13.984375 \r\nQ 42 -20.796875 29.203125 -20.796875 \r\nQ 24.46875 -20.796875 20.265625 -20.09375 \r\nQ 16.0625 -19.390625 12.109375 -17.921875 \r\nL 12.109375 -9.1875 \r\nQ 16.0625 -11.328125 19.921875 -12.34375 \r\nQ 23.78125 -13.375 27.78125 -13.375 \r\nQ 36.625 -13.375 41.015625 -8.765625 \r\nQ 45.40625 -4.15625 45.40625 5.171875 \r\nL 45.40625 9.625 \r\nQ 42.625 4.78125 38.28125 2.390625 \r\nQ 33.9375 0 27.875 0 \r\nQ 17.828125 0 11.671875 7.65625 \r\nQ 5.515625 15.328125 5.515625 27.984375 \r\nQ 5.515625 40.671875 11.671875 48.328125 \r\nQ 17.828125 56 27.875 56 \r\nQ 33.9375 56 38.28125 53.609375 \r\nQ 42.625 51.21875 45.40625 46.390625 \r\nL 45.40625 54.6875 \r\nL 54.390625 54.6875 \r\nz\r\n\" id=\"DejaVuSans-103\"/>\r\n       <path d=\"M 50.984375 -16.609375 \r\nL 50.984375 -23.578125 \r\nL -0.984375 -23.578125 \r\nL -0.984375 -16.609375 \r\nz\r\n\" id=\"DejaVuSans-95\"/>\r\n       <path d=\"M 54.890625 54.6875 \r\nL 35.109375 28.078125 \r\nL 55.90625 0 \r\nL 45.3125 0 \r\nL 29.390625 21.484375 \r\nL 13.484375 0 \r\nL 2.875 0 \r\nL 24.125 28.609375 \r\nL 4.6875 54.6875 \r\nL 15.28125 54.6875 \r\nL 29.78125 35.203125 \r\nL 44.28125 54.6875 \r\nz\r\n\" id=\"DejaVuSans-120\"/>\r\n      </defs>\r\n      <use xlink:href=\"#DejaVuSans-114\"/>\r\n      <use x=\"41.113281\" xlink:href=\"#DejaVuSans-97\"/>\r\n      <use x=\"102.392578\" xlink:href=\"#DejaVuSans-116\"/>\r\n      <use x=\"141.601562\" xlink:href=\"#DejaVuSans-105\"/>\r\n      <use x=\"169.384766\" xlink:href=\"#DejaVuSans-110\"/>\r\n      <use x=\"232.763672\" xlink:href=\"#DejaVuSans-103\"/>\r\n      <use x=\"296.240234\" xlink:href=\"#DejaVuSans-95\"/>\r\n      <use x=\"346.240234\" xlink:href=\"#DejaVuSans-120\"/>\r\n     </g>\r\n    </g>\r\n   </g>\r\n   <g id=\"matplotlib.axis_2\">\r\n    <g id=\"ytick_1\">\r\n     <g id=\"text_7\">\r\n      <!-- 0 -->\r\n      <g style=\"fill:#262626;\" transform=\"translate(46.328125 333.399219)scale(0.1 -0.1)\">\r\n       <defs>\r\n        <path d=\"M 31.78125 66.40625 \r\nQ 24.171875 66.40625 20.328125 58.90625 \r\nQ 16.5 51.421875 16.5 36.375 \r\nQ 16.5 21.390625 20.328125 13.890625 \r\nQ 24.171875 6.390625 31.78125 6.390625 \r\nQ 39.453125 6.390625 43.28125 13.890625 \r\nQ 47.125 21.390625 47.125 36.375 \r\nQ 47.125 51.421875 43.28125 58.90625 \r\nQ 39.453125 66.40625 31.78125 66.40625 \r\nz\r\nM 31.78125 74.21875 \r\nQ 44.046875 74.21875 50.515625 64.515625 \r\nQ 56.984375 54.828125 56.984375 36.375 \r\nQ 56.984375 17.96875 50.515625 8.265625 \r\nQ 44.046875 -1.421875 31.78125 -1.421875 \r\nQ 19.53125 -1.421875 13.0625 8.265625 \r\nQ 6.59375 17.96875 6.59375 36.375 \r\nQ 6.59375 54.828125 13.0625 64.515625 \r\nQ 19.53125 74.21875 31.78125 74.21875 \r\nz\r\n\" id=\"DejaVuSans-48\"/>\r\n       </defs>\r\n       <use xlink:href=\"#DejaVuSans-48\"/>\r\n      </g>\r\n     </g>\r\n    </g>\r\n    <g id=\"ytick_2\">\r\n     <g id=\"text_8\">\r\n      <!-- 5000 -->\r\n      <g style=\"fill:#262626;\" transform=\"translate(27.240625 292.731737)scale(0.1 -0.1)\">\r\n       <use xlink:href=\"#DejaVuSans-53\"/>\r\n       <use x=\"63.623047\" xlink:href=\"#DejaVuSans-48\"/>\r\n       <use x=\"127.246094\" xlink:href=\"#DejaVuSans-48\"/>\r\n       <use x=\"190.869141\" xlink:href=\"#DejaVuSans-48\"/>\r\n      </g>\r\n     </g>\r\n    </g>\r\n    <g id=\"ytick_3\">\r\n     <g id=\"text_9\">\r\n      <!-- 10000 -->\r\n      <g style=\"fill:#262626;\" transform=\"translate(20.878125 252.064256)scale(0.1 -0.1)\">\r\n       <use xlink:href=\"#DejaVuSans-49\"/>\r\n       <use x=\"63.623047\" xlink:href=\"#DejaVuSans-48\"/>\r\n       <use x=\"127.246094\" xlink:href=\"#DejaVuSans-48\"/>\r\n       <use x=\"190.869141\" xlink:href=\"#DejaVuSans-48\"/>\r\n       <use x=\"254.492188\" xlink:href=\"#DejaVuSans-48\"/>\r\n      </g>\r\n     </g>\r\n    </g>\r\n    <g id=\"ytick_4\">\r\n     <g id=\"text_10\">\r\n      <!-- 15000 -->\r\n      <g style=\"fill:#262626;\" transform=\"translate(20.878125 211.396774)scale(0.1 -0.1)\">\r\n       <use xlink:href=\"#DejaVuSans-49\"/>\r\n       <use x=\"63.623047\" xlink:href=\"#DejaVuSans-53\"/>\r\n       <use x=\"127.246094\" xlink:href=\"#DejaVuSans-48\"/>\r\n       <use x=\"190.869141\" xlink:href=\"#DejaVuSans-48\"/>\r\n       <use x=\"254.492188\" xlink:href=\"#DejaVuSans-48\"/>\r\n      </g>\r\n     </g>\r\n    </g>\r\n    <g id=\"ytick_5\">\r\n     <g id=\"text_11\">\r\n      <!-- 20000 -->\r\n      <g style=\"fill:#262626;\" transform=\"translate(20.878125 170.729293)scale(0.1 -0.1)\">\r\n       <use xlink:href=\"#DejaVuSans-50\"/>\r\n       <use x=\"63.623047\" xlink:href=\"#DejaVuSans-48\"/>\r\n       <use x=\"127.246094\" xlink:href=\"#DejaVuSans-48\"/>\r\n       <use x=\"190.869141\" xlink:href=\"#DejaVuSans-48\"/>\r\n       <use x=\"254.492188\" xlink:href=\"#DejaVuSans-48\"/>\r\n      </g>\r\n     </g>\r\n    </g>\r\n    <g id=\"ytick_6\">\r\n     <g id=\"text_12\">\r\n      <!-- 25000 -->\r\n      <g style=\"fill:#262626;\" transform=\"translate(20.878125 130.061811)scale(0.1 -0.1)\">\r\n       <use xlink:href=\"#DejaVuSans-50\"/>\r\n       <use x=\"63.623047\" xlink:href=\"#DejaVuSans-53\"/>\r\n       <use x=\"127.246094\" xlink:href=\"#DejaVuSans-48\"/>\r\n       <use x=\"190.869141\" xlink:href=\"#DejaVuSans-48\"/>\r\n       <use x=\"254.492188\" xlink:href=\"#DejaVuSans-48\"/>\r\n      </g>\r\n     </g>\r\n    </g>\r\n    <g id=\"ytick_7\">\r\n     <g id=\"text_13\">\r\n      <!-- 30000 -->\r\n      <g style=\"fill:#262626;\" transform=\"translate(20.878125 89.39433)scale(0.1 -0.1)\">\r\n       <use xlink:href=\"#DejaVuSans-51\"/>\r\n       <use x=\"63.623047\" xlink:href=\"#DejaVuSans-48\"/>\r\n       <use x=\"127.246094\" xlink:href=\"#DejaVuSans-48\"/>\r\n       <use x=\"190.869141\" xlink:href=\"#DejaVuSans-48\"/>\r\n       <use x=\"254.492188\" xlink:href=\"#DejaVuSans-48\"/>\r\n      </g>\r\n     </g>\r\n    </g>\r\n    <g id=\"ytick_8\">\r\n     <g id=\"text_14\">\r\n      <!-- 35000 -->\r\n      <g style=\"fill:#262626;\" transform=\"translate(20.878125 48.726848)scale(0.1 -0.1)\">\r\n       <use xlink:href=\"#DejaVuSans-51\"/>\r\n       <use x=\"63.623047\" xlink:href=\"#DejaVuSans-53\"/>\r\n       <use x=\"127.246094\" xlink:href=\"#DejaVuSans-48\"/>\r\n       <use x=\"190.869141\" xlink:href=\"#DejaVuSans-48\"/>\r\n       <use x=\"254.492188\" xlink:href=\"#DejaVuSans-48\"/>\r\n      </g>\r\n     </g>\r\n    </g>\r\n    <g id=\"text_15\">\r\n     <!-- Total number of ratings -->\r\n     <g style=\"fill:#262626;\" transform=\"translate(14.798438 226.59375)rotate(-90)scale(0.1 -0.1)\">\r\n      <defs>\r\n       <path d=\"M -0.296875 72.90625 \r\nL 61.375 72.90625 \r\nL 61.375 64.59375 \r\nL 35.5 64.59375 \r\nL 35.5 0 \r\nL 25.59375 0 \r\nL 25.59375 64.59375 \r\nL -0.296875 64.59375 \r\nz\r\n\" id=\"DejaVuSans-84\"/>\r\n       <path d=\"M 30.609375 48.390625 \r\nQ 23.390625 48.390625 19.1875 42.75 \r\nQ 14.984375 37.109375 14.984375 27.296875 \r\nQ 14.984375 17.484375 19.15625 11.84375 \r\nQ 23.34375 6.203125 30.609375 6.203125 \r\nQ 37.796875 6.203125 41.984375 11.859375 \r\nQ 46.1875 17.53125 46.1875 27.296875 \r\nQ 46.1875 37.015625 41.984375 42.703125 \r\nQ 37.796875 48.390625 30.609375 48.390625 \r\nz\r\nM 30.609375 56 \r\nQ 42.328125 56 49.015625 48.375 \r\nQ 55.71875 40.765625 55.71875 27.296875 \r\nQ 55.71875 13.875 49.015625 6.21875 \r\nQ 42.328125 -1.421875 30.609375 -1.421875 \r\nQ 18.84375 -1.421875 12.171875 6.21875 \r\nQ 5.515625 13.875 5.515625 27.296875 \r\nQ 5.515625 40.765625 12.171875 48.375 \r\nQ 18.84375 56 30.609375 56 \r\nz\r\n\" id=\"DejaVuSans-111\"/>\r\n       <path d=\"M 9.421875 75.984375 \r\nL 18.40625 75.984375 \r\nL 18.40625 0 \r\nL 9.421875 0 \r\nz\r\n\" id=\"DejaVuSans-108\"/>\r\n       <path id=\"DejaVuSans-32\"/>\r\n       <path d=\"M 8.5 21.578125 \r\nL 8.5 54.6875 \r\nL 17.484375 54.6875 \r\nL 17.484375 21.921875 \r\nQ 17.484375 14.15625 20.5 10.265625 \r\nQ 23.53125 6.390625 29.59375 6.390625 \r\nQ 36.859375 6.390625 41.078125 11.03125 \r\nQ 45.3125 15.671875 45.3125 23.6875 \r\nL 45.3125 54.6875 \r\nL 54.296875 54.6875 \r\nL 54.296875 0 \r\nL 45.3125 0 \r\nL 45.3125 8.40625 \r\nQ 42.046875 3.421875 37.71875 1 \r\nQ 33.40625 -1.421875 27.6875 -1.421875 \r\nQ 18.265625 -1.421875 13.375 4.4375 \r\nQ 8.5 10.296875 8.5 21.578125 \r\nz\r\nM 31.109375 56 \r\nz\r\n\" id=\"DejaVuSans-117\"/>\r\n       <path d=\"M 52 44.1875 \r\nQ 55.375 50.25 60.0625 53.125 \r\nQ 64.75 56 71.09375 56 \r\nQ 79.640625 56 84.28125 50.015625 \r\nQ 88.921875 44.046875 88.921875 33.015625 \r\nL 88.921875 0 \r\nL 79.890625 0 \r\nL 79.890625 32.71875 \r\nQ 79.890625 40.578125 77.09375 44.375 \r\nQ 74.3125 48.1875 68.609375 48.1875 \r\nQ 61.625 48.1875 57.5625 43.546875 \r\nQ 53.515625 38.921875 53.515625 30.90625 \r\nL 53.515625 0 \r\nL 44.484375 0 \r\nL 44.484375 32.71875 \r\nQ 44.484375 40.625 41.703125 44.40625 \r\nQ 38.921875 48.1875 33.109375 48.1875 \r\nQ 26.21875 48.1875 22.15625 43.53125 \r\nQ 18.109375 38.875 18.109375 30.90625 \r\nL 18.109375 0 \r\nL 9.078125 0 \r\nL 9.078125 54.6875 \r\nL 18.109375 54.6875 \r\nL 18.109375 46.1875 \r\nQ 21.1875 51.21875 25.484375 53.609375 \r\nQ 29.78125 56 35.6875 56 \r\nQ 41.65625 56 45.828125 52.96875 \r\nQ 50 49.953125 52 44.1875 \r\nz\r\n\" id=\"DejaVuSans-109\"/>\r\n       <path d=\"M 48.6875 27.296875 \r\nQ 48.6875 37.203125 44.609375 42.84375 \r\nQ 40.53125 48.484375 33.40625 48.484375 \r\nQ 26.265625 48.484375 22.1875 42.84375 \r\nQ 18.109375 37.203125 18.109375 27.296875 \r\nQ 18.109375 17.390625 22.1875 11.75 \r\nQ 26.265625 6.109375 33.40625 6.109375 \r\nQ 40.53125 6.109375 44.609375 11.75 \r\nQ 48.6875 17.390625 48.6875 27.296875 \r\nz\r\nM 18.109375 46.390625 \r\nQ 20.953125 51.265625 25.265625 53.625 \r\nQ 29.59375 56 35.59375 56 \r\nQ 45.5625 56 51.78125 48.09375 \r\nQ 58.015625 40.1875 58.015625 27.296875 \r\nQ 58.015625 14.40625 51.78125 6.484375 \r\nQ 45.5625 -1.421875 35.59375 -1.421875 \r\nQ 29.59375 -1.421875 25.265625 0.953125 \r\nQ 20.953125 3.328125 18.109375 8.203125 \r\nL 18.109375 0 \r\nL 9.078125 0 \r\nL 9.078125 75.984375 \r\nL 18.109375 75.984375 \r\nz\r\n\" id=\"DejaVuSans-98\"/>\r\n       <path d=\"M 56.203125 29.59375 \r\nL 56.203125 25.203125 \r\nL 14.890625 25.203125 \r\nQ 15.484375 15.921875 20.484375 11.0625 \r\nQ 25.484375 6.203125 34.421875 6.203125 \r\nQ 39.59375 6.203125 44.453125 7.46875 \r\nQ 49.3125 8.734375 54.109375 11.28125 \r\nL 54.109375 2.78125 \r\nQ 49.265625 0.734375 44.1875 -0.34375 \r\nQ 39.109375 -1.421875 33.890625 -1.421875 \r\nQ 20.796875 -1.421875 13.15625 6.1875 \r\nQ 5.515625 13.8125 5.515625 26.8125 \r\nQ 5.515625 40.234375 12.765625 48.109375 \r\nQ 20.015625 56 32.328125 56 \r\nQ 43.359375 56 49.78125 48.890625 \r\nQ 56.203125 41.796875 56.203125 29.59375 \r\nz\r\nM 47.21875 32.234375 \r\nQ 47.125 39.59375 43.09375 43.984375 \r\nQ 39.0625 48.390625 32.421875 48.390625 \r\nQ 24.90625 48.390625 20.390625 44.140625 \r\nQ 15.875 39.890625 15.1875 32.171875 \r\nz\r\n\" id=\"DejaVuSans-101\"/>\r\n       <path d=\"M 37.109375 75.984375 \r\nL 37.109375 68.5 \r\nL 28.515625 68.5 \r\nQ 23.6875 68.5 21.796875 66.546875 \r\nQ 19.921875 64.59375 19.921875 59.515625 \r\nL 19.921875 54.6875 \r\nL 34.71875 54.6875 \r\nL 34.71875 47.703125 \r\nL 19.921875 47.703125 \r\nL 19.921875 0 \r\nL 10.890625 0 \r\nL 10.890625 47.703125 \r\nL 2.296875 47.703125 \r\nL 2.296875 54.6875 \r\nL 10.890625 54.6875 \r\nL 10.890625 58.5 \r\nQ 10.890625 67.625 15.140625 71.796875 \r\nQ 19.390625 75.984375 28.609375 75.984375 \r\nz\r\n\" id=\"DejaVuSans-102\"/>\r\n       <path d=\"M 44.28125 53.078125 \r\nL 44.28125 44.578125 \r\nQ 40.484375 46.53125 36.375 47.5 \r\nQ 32.28125 48.484375 27.875 48.484375 \r\nQ 21.1875 48.484375 17.84375 46.4375 \r\nQ 14.5 44.390625 14.5 40.28125 \r\nQ 14.5 37.15625 16.890625 35.375 \r\nQ 19.28125 33.59375 26.515625 31.984375 \r\nL 29.59375 31.296875 \r\nQ 39.15625 29.25 43.1875 25.515625 \r\nQ 47.21875 21.78125 47.21875 15.09375 \r\nQ 47.21875 7.46875 41.1875 3.015625 \r\nQ 35.15625 -1.421875 24.609375 -1.421875 \r\nQ 20.21875 -1.421875 15.453125 -0.5625 \r\nQ 10.6875 0.296875 5.421875 2 \r\nL 5.421875 11.28125 \r\nQ 10.40625 8.6875 15.234375 7.390625 \r\nQ 20.0625 6.109375 24.8125 6.109375 \r\nQ 31.15625 6.109375 34.5625 8.28125 \r\nQ 37.984375 10.453125 37.984375 14.40625 \r\nQ 37.984375 18.0625 35.515625 20.015625 \r\nQ 33.0625 21.96875 24.703125 23.78125 \r\nL 21.578125 24.515625 \r\nQ 13.234375 26.265625 9.515625 29.90625 \r\nQ 5.8125 33.546875 5.8125 39.890625 \r\nQ 5.8125 47.609375 11.28125 51.796875 \r\nQ 16.75 56 26.8125 56 \r\nQ 31.78125 56 36.171875 55.265625 \r\nQ 40.578125 54.546875 44.28125 53.078125 \r\nz\r\n\" id=\"DejaVuSans-115\"/>\r\n      </defs>\r\n      <use xlink:href=\"#DejaVuSans-84\"/>\r\n      <use x=\"44.083984\" xlink:href=\"#DejaVuSans-111\"/>\r\n      <use x=\"105.265625\" xlink:href=\"#DejaVuSans-116\"/>\r\n      <use x=\"144.474609\" xlink:href=\"#DejaVuSans-97\"/>\r\n      <use x=\"205.753906\" xlink:href=\"#DejaVuSans-108\"/>\r\n      <use x=\"233.537109\" xlink:href=\"#DejaVuSans-32\"/>\r\n      <use x=\"265.324219\" xlink:href=\"#DejaVuSans-110\"/>\r\n      <use x=\"328.703125\" xlink:href=\"#DejaVuSans-117\"/>\r\n      <use x=\"392.082031\" xlink:href=\"#DejaVuSans-109\"/>\r\n      <use x=\"489.494141\" xlink:href=\"#DejaVuSans-98\"/>\r\n      <use x=\"552.970703\" xlink:href=\"#DejaVuSans-101\"/>\r\n      <use x=\"614.494141\" xlink:href=\"#DejaVuSans-114\"/>\r\n      <use x=\"655.607422\" xlink:href=\"#DejaVuSans-32\"/>\r\n      <use x=\"687.394531\" xlink:href=\"#DejaVuSans-111\"/>\r\n      <use x=\"748.576172\" xlink:href=\"#DejaVuSans-102\"/>\r\n      <use x=\"783.78125\" xlink:href=\"#DejaVuSans-32\"/>\r\n      <use x=\"815.568359\" xlink:href=\"#DejaVuSans-114\"/>\r\n      <use x=\"856.681641\" xlink:href=\"#DejaVuSans-97\"/>\r\n      <use x=\"917.960938\" xlink:href=\"#DejaVuSans-116\"/>\r\n      <use x=\"957.169922\" xlink:href=\"#DejaVuSans-105\"/>\r\n      <use x=\"984.953125\" xlink:href=\"#DejaVuSans-110\"/>\r\n      <use x=\"1048.332031\" xlink:href=\"#DejaVuSans-103\"/>\r\n      <use x=\"1111.808594\" xlink:href=\"#DejaVuSans-115\"/>\r\n     </g>\r\n    </g>\r\n   </g>\r\n   <g id=\"patch_3\">\r\n    <path clip-path=\"url(#p8e2b78d4a9)\" d=\"M 72.956125 329.6 \r\nL 179.080125 329.6 \r\nL 179.080125 225.954857 \r\nL 72.956125 225.954857 \r\nz\r\n\" style=\"fill:#3274a1;stroke:#ffffff;stroke-linejoin:miter;\"/>\r\n   </g>\r\n   <g id=\"patch_4\">\r\n    <path clip-path=\"url(#p8e2b78d4a9)\" d=\"M 205.611125 329.6 \r\nL 311.735125 329.6 \r\nL 311.735125 297.757362 \r\nL 205.611125 297.757362 \r\nz\r\n\" style=\"fill:#e1812c;stroke:#ffffff;stroke-linejoin:miter;\"/>\r\n   </g>\r\n   <g id=\"patch_5\">\r\n    <path clip-path=\"url(#p8e2b78d4a9)\" d=\"M 338.266125 329.6 \r\nL 444.390125 329.6 \r\nL 444.390125 290.957759 \r\nL 338.266125 290.957759 \r\nz\r\n\" style=\"fill:#3a923a;stroke:#ffffff;stroke-linejoin:miter;\"/>\r\n   </g>\r\n   <g id=\"patch_6\">\r\n    <path clip-path=\"url(#p8e2b78d4a9)\" d=\"M 470.921125 329.6 \r\nL 577.045125 329.6 \r\nL 577.045125 257.830029 \r\nL 470.921125 257.830029 \r\nz\r\n\" style=\"fill:#c03d3e;stroke:#ffffff;stroke-linejoin:miter;\"/>\r\n   </g>\r\n   <g id=\"patch_7\">\r\n    <path clip-path=\"url(#p8e2b78d4a9)\" d=\"M 603.576125 329.6 \r\nL 709.700125 329.6 \r\nL 709.700125 22.552381 \r\nL 603.576125 22.552381 \r\nz\r\n\" style=\"fill:#9372b2;stroke:#ffffff;stroke-linejoin:miter;\"/>\r\n   </g>\r\n   <g id=\"patch_8\">\r\n    <path d=\"M 59.690625 329.6 \r\nL 59.690625 7.2 \r\n\" style=\"fill:none;stroke:#262626;stroke-linecap:square;stroke-linejoin:miter;stroke-width:0.8;\"/>\r\n   </g>\r\n   <g id=\"patch_9\">\r\n    <path d=\"M 59.690625 329.6 \r\nL 722.965625 329.6 \r\n\" style=\"fill:none;stroke:#262626;stroke-linecap:square;stroke-linejoin:miter;stroke-width:0.8;\"/>\r\n   </g>\r\n  </g>\r\n </g>\r\n <defs>\r\n  <clipPath id=\"p8e2b78d4a9\">\r\n   <rect height=\"322.4\" width=\"663.275\" x=\"59.690625\" y=\"7.2\"/>\r\n  </clipPath>\r\n </defs>\r\n</svg>\r\n",
            "image/png": "[encoded data removed]"
          },
          "metadata": {}
        }
      ],
      "source": [
        "# Diagram distribusi rating\n",
        "with sns.axes_style('white'):\n",
        "    g = sns.factorplot(\"rating_x\", data=dataset, aspect=2.0,kind='count')\n",
        "    g.set_ylabels(\"Total number of ratings\")\n"
      ]
    },
    {
      "cell_type": "code",
      "execution_count": null,
      "metadata": {
        "id": "Ed4ONCVfOARX",
        "outputId": "9e425902-0f87-4995-bcf0-5053bf1a4a3e"
      },
      "outputs": [
        {
          "output_type": "stream",
          "name": "stdout",
          "text": [
            "Jumlah unique USERS di dataset =  47323\nJumlah unique ITEMS di dataset =  720\nJumlah unique TITTLE di dataset =  718\n"
          ]
        }
      ],
      "source": [
        "# Melihat jumlah item dan user yang unique\n",
        "print('Jumlah unique USERS di dataset = ', dataset['name'].nunique())\n",
        "print('Jumlah unique ITEMS di dataset = ', dataset['asin'].nunique())\n",
        "print('Jumlah unique TITTLE di dataset = ', dataset['title_y'].nunique())"
      ]
    },
    {
      "cell_type": "code",
      "execution_count": null,
      "metadata": {
        "id": "_efnI4zzOARY",
        "outputId": "5c7bf8cc-7e02-4270-91c1-916c1ae5c401"
      },
      "outputs": [
        {
          "output_type": "execute_result",
          "data": {
            "text/plain": [
              "name\n",
              "Amazon Customer      6507\n",
              "Kindle Customer       360\n",
              "Chris                  89\n",
              "John                   87\n",
              "Michael                77\n",
              "Mike                   73\n",
              "David                  70\n",
              "Alex                   64\n",
              "Cliente de Amazon      62\n",
              "James                  58\n",
              "dtype: int64"
            ]
          },
          "metadata": {},
          "execution_count": 19
        }
      ],
      "source": [
        "#Top 10 users berdasar rating\n",
        "most_rated = dataset.groupby('name').size().sort_values(ascending=False)[:10]\n",
        "most_rated"
      ]
    },
    {
      "cell_type": "code",
      "execution_count": null,
      "metadata": {
        "id": "47cR9TeNOARY"
      },
      "outputs": [],
      "source": [
        "# Persiapan model data sesuai persyaratan jumlah peringkat minimum agar rmse kecil\n",
        "counts = dataset['name'].value_counts()\n",
        "dataset_final = dataset[dataset['name'].isin(counts[counts >= 50].index)]"
      ]
    },
    {
      "cell_type": "code",
      "execution_count": null,
      "metadata": {
        "id": "ocJHu9kIOARY",
        "outputId": "e03b43db-99c7-45d4-ee00-b446cab839bc"
      },
      "outputs": [
        {
          "output_type": "execute_result",
          "data": {
            "text/plain": [
              "           asin             name  rating_x  \\\n",
              "9    B0000SX2UC  Amazon Customer         3   \n",
              "27   B000SKTZ0S  Amazon Customer         1   \n",
              "45   B001AO4OUC  Amazon Customer         5   \n",
              "64   B001DCJAJG  Kindle Customer         4   \n",
              "109  B002AS9WEA  Amazon Customer         2   \n",
              "\n",
              "                                               title_y  \n",
              "9    Dual-Band / Tri-Mode Sprint PCS Phone w/ Voice...  \n",
              "27   MOTOROLA C168i AT&T CINGULAR PREPAID GOPHONE C...  \n",
              "45               Motorola i335 Cell Phone Boost Mobile  \n",
              "64       Motorola V365 no contract cellular phone AT&T  \n",
              "109                Samsung a167 Prepaid GoPhone (AT&T)  "
            ],
            "text/html": "<div>\n<style scoped>\n    .dataframe tbody tr th:only-of-type {\n        vertical-align: middle;\n    }\n\n    .dataframe tbody tr th {\n        vertical-align: top;\n    }\n\n    .dataframe thead th {\n        text-align: right;\n    }\n</style>\n<table border=\"1\" class=\"dataframe\">\n  <thead>\n    <tr style=\"text-align: right;\">\n      <th></th>\n      <th>asin</th>\n      <th>name</th>\n      <th>rating_x</th>\n      <th>title_y</th>\n    </tr>\n  </thead>\n  <tbody>\n    <tr>\n      <th>9</th>\n      <td>B0000SX2UC</td>\n      <td>Amazon Customer</td>\n      <td>3</td>\n      <td>Dual-Band / Tri-Mode Sprint PCS Phone w/ Voice...</td>\n    </tr>\n    <tr>\n      <th>27</th>\n      <td>B000SKTZ0S</td>\n      <td>Amazon Customer</td>\n      <td>1</td>\n      <td>MOTOROLA C168i AT&amp;T CINGULAR PREPAID GOPHONE C...</td>\n    </tr>\n    <tr>\n      <th>45</th>\n      <td>B001AO4OUC</td>\n      <td>Amazon Customer</td>\n      <td>5</td>\n      <td>Motorola i335 Cell Phone Boost Mobile</td>\n    </tr>\n    <tr>\n      <th>64</th>\n      <td>B001DCJAJG</td>\n      <td>Kindle Customer</td>\n      <td>4</td>\n      <td>Motorola V365 no contract cellular phone AT&amp;T</td>\n    </tr>\n    <tr>\n      <th>109</th>\n      <td>B002AS9WEA</td>\n      <td>Amazon Customer</td>\n      <td>2</td>\n      <td>Samsung a167 Prepaid GoPhone (AT&amp;T)</td>\n    </tr>\n  </tbody>\n</table>\n</div>"
          },
          "metadata": {},
          "execution_count": 21
        }
      ],
      "source": [
        "dataset_final.head()"
      ]
    },
    {
      "cell_type": "code",
      "execution_count": null,
      "metadata": {
        "id": "yy84wZsPOARZ",
        "outputId": "51015a0a-4a92-43c4-843c-fbbde80ae39d"
      },
      "outputs": [
        {
          "output_type": "stream",
          "name": "stdout",
          "text": [
            "Jumlah user yang memberi rating di >=50 items = 7503\nJumlah unique USERS di final data =  11\nJumlah unique ITEMS di final data =  546\nJumlah unique TITTLE di final data =  544\n"
          ]
        }
      ],
      "source": [
        "print('Jumlah user yang memberi rating di >=50 items =', len(dataset_final))\n",
        "print('Jumlah unique USERS di final data = ', dataset_final['name'].nunique())\n",
        "print('Jumlah unique ITEMS di final data = ', dataset_final['asin'].nunique())\n",
        "print('Jumlah unique TITTLE di final data = ', dataset_final['title_y'].nunique())"
      ]
    },
    {
      "cell_type": "code",
      "execution_count": null,
      "metadata": {
        "id": "zx9rukoGOARZ",
        "outputId": "8265a180-777b-412f-a239-7298fcacfa43"
      },
      "outputs": [
        {
          "output_type": "stream",
          "name": "stdout",
          "text": [
            "Shape of final_ratings_matrix:  (11, 544)\ngiven_num_of_ratings =  1247\npossible_num_of_ratings =  5984\ndensity: 20.84%\n"
          ]
        }
      ],
      "source": [
        "# Menghitung density rating matrix\n",
        "\n",
        "final_ratings_matrix = pd.pivot_table(dataset_final,index=['name'], columns = 'title_y', values = \"rating_x\") \n",
        "final_ratings_matrix.fillna(0,inplace=True)\n",
        "print('Shape of final_ratings_matrix: ', final_ratings_matrix.shape)\n",
        "given_num_of_ratings = np.count_nonzero(final_ratings_matrix)\n",
        "print('given_num_of_ratings = ', given_num_of_ratings)\n",
        "possible_num_of_ratings = final_ratings_matrix.shape[0] * final_ratings_matrix.shape[1]\n",
        "print('possible_num_of_ratings = ', possible_num_of_ratings)\n",
        "density = (given_num_of_ratings/possible_num_of_ratings)\n",
        "density *= 100\n",
        "print ('density: {:4.2f}%'.format(density))"
      ]
    },
    {
      "cell_type": "code",
      "execution_count": null,
      "metadata": {
        "id": "X9Z2YMhlOARZ",
        "outputId": "390e24c0-399d-4f67-d958-ecc66db267ee"
      },
      "outputs": [
        {
          "output_type": "stream",
          "name": "stdout",
          "text": [
            "             asin             name  rating_x  \\\n35438  B071JP8XDJ  Amazon Customer         5   \n29369  B01N9XOXCK             Mike         3   \n67757  B07YZLRS3Z  Amazon Customer         4   \n22682  B01DUPOOMG  Amazon Customer         3   \n15999  B00WF988BW  Amazon Customer         5   \n\n                                                 title_y  \n35438  Sony Xperia XA1 Ultra G3223 32GB Unlocked GSM ...  \n29369  Samsung Galaxy S7 Edge G935V 32GB Gold - Veriz...  \n67757  Xiaomi Redmi Note 8 64GB + 4GB RAM, 6.3\" LTE 4...  \n22682  Samsung Galaxy S6 G920P 32GB Black Boost Mobil...  \n15999  Samsung Convoy 3 SCH-U680 Rugged 3G Cell Phone...  \n"
          ]
        }
      ],
      "source": [
        "# Split data training dan testing dengan ratio 70:30\n",
        "train_data, test_data = train_test_split(dataset_final, test_size = 0.3, random_state=0)\n",
        "\n",
        "print(train_data.head(5))"
      ]
    },
    {
      "cell_type": "code",
      "execution_count": null,
      "metadata": {
        "id": "U4oTwSKWOARa",
        "outputId": "68dbb275-5854-4c86-f16c-c06f2ec483b3"
      },
      "outputs": [
        {
          "output_type": "stream",
          "name": "stdout",
          "text": [
            "Test data shape:  (2251, 4)\nTrain data shape:  (5252, 4)\n"
          ]
        }
      ],
      "source": [
        "def shape():\n",
        "    print(\"Test data shape: \", test_data.shape)\n",
        "    print(\"Train data shape: \", train_data.shape)\n",
        "shape()"
      ]
    },
    {
      "cell_type": "code",
      "execution_count": null,
      "metadata": {
        "id": "33jdXlTQOARb",
        "outputId": "e5e352cc-01dc-409b-d442-cb8b307d181f"
      },
      "outputs": [
        {
          "output_type": "execute_result",
          "data": {
            "text/plain": [
              "      index        asin             name  rating_x  \\\n",
              "7498  34737  B06Y3HCFZT  Amazon Customer         5   \n",
              "7499  18507  B014GCG150  Amazon Customer         4   \n",
              "7500  12647  B00MWI4KKE  Amazon Customer         4   \n",
              "7501  13714  B00O15MWOM  Amazon Customer         4   \n",
              "7502  17843  B013XAPUW6            Chris         4   \n",
              "\n",
              "                                                title_y  \n",
              "7498  Samsung Galaxy S8+, 6.2\" 64GB (Verizon Wireles...  \n",
              "7499  Samsung Galaxy J5 SM-J500H/DS GSM Factory Unlo...  \n",
              "7500  Motorola Moto X (2nd generation) XT1097 GSM Un...  \n",
              "7501     Nokia Lumia 530 White - No Contract (T-Mobile)  \n",
              "7502  Samsung Galaxy Note 5, Black  64GB (Verizon Wi...  "
            ],
            "text/html": "<div>\n<style scoped>\n    .dataframe tbody tr th:only-of-type {\n        vertical-align: middle;\n    }\n\n    .dataframe tbody tr th {\n        vertical-align: top;\n    }\n\n    .dataframe thead th {\n        text-align: right;\n    }\n</style>\n<table border=\"1\" class=\"dataframe\">\n  <thead>\n    <tr style=\"text-align: right;\">\n      <th></th>\n      <th>index</th>\n      <th>asin</th>\n      <th>name</th>\n      <th>rating_x</th>\n      <th>title_y</th>\n    </tr>\n  </thead>\n  <tbody>\n    <tr>\n      <th>7498</th>\n      <td>34737</td>\n      <td>B06Y3HCFZT</td>\n      <td>Amazon Customer</td>\n      <td>5</td>\n      <td>Samsung Galaxy S8+, 6.2\" 64GB (Verizon Wireles...</td>\n    </tr>\n    <tr>\n      <th>7499</th>\n      <td>18507</td>\n      <td>B014GCG150</td>\n      <td>Amazon Customer</td>\n      <td>4</td>\n      <td>Samsung Galaxy J5 SM-J500H/DS GSM Factory Unlo...</td>\n    </tr>\n    <tr>\n      <th>7500</th>\n      <td>12647</td>\n      <td>B00MWI4KKE</td>\n      <td>Amazon Customer</td>\n      <td>4</td>\n      <td>Motorola Moto X (2nd generation) XT1097 GSM Un...</td>\n    </tr>\n    <tr>\n      <th>7501</th>\n      <td>13714</td>\n      <td>B00O15MWOM</td>\n      <td>Amazon Customer</td>\n      <td>4</td>\n      <td>Nokia Lumia 530 White - No Contract (T-Mobile)</td>\n    </tr>\n    <tr>\n      <th>7502</th>\n      <td>17843</td>\n      <td>B013XAPUW6</td>\n      <td>Chris</td>\n      <td>4</td>\n      <td>Samsung Galaxy Note 5, Black  64GB (Verizon Wi...</td>\n    </tr>\n  </tbody>\n</table>\n</div>"
          },
          "metadata": {},
          "execution_count": 26
        }
      ],
      "source": [
        "# Membuat Collaborative Filtering model\n",
        "\n",
        "dataframe_CF = pd.concat([train_data, test_data]).reset_index()\n",
        "dataframe_CF.tail()"
      ]
    },
    {
      "cell_type": "code",
      "execution_count": null,
      "metadata": {
        "id": "-fSKJ42TOARb",
        "outputId": "ff21deb3-84f3-40ca-ae0a-906e89fd3f3a"
      },
      "outputs": [
        {
          "output_type": "stream",
          "name": "stdout",
          "text": [
            "(11, 544)\n"
          ]
        },
        {
          "output_type": "execute_result",
          "data": {
            "text/plain": [
              "title_y            ASUS ZenFone 5Z (ZS620KL-S845-6G64G) - 6.2” FHD+ 2160x1080 display - 6GB RAM - 64GB storage - LTE Unlocked Dual SIM Cell Phone - US Warranty - Midnight Blue  \\\n",
              "name                                                                                                                                                                              \n",
              "Alex                                                             0.0                                                                                                              \n",
              "Amazon Customer                                                  4.8                                                                                                              \n",
              "Chris                                                            0.0                                                                                                              \n",
              "Cliente de Amazon                                                5.0                                                                                                              \n",
              "Daniel                                                           0.0                                                                                                              \n",
              "\n",
              "title_y            ASUS ZenFone Max Plus ZB570TL-MT67-3G32G-BL - 5.7” 1920x1080-3GB RAM - 32GB storage - LTE Unlocked Dual SIM Cell Phone - US Warranty - Silver  \\\n",
              "name                                                                                                                                                               \n",
              "Alex                                                        0.000000                                                                                               \n",
              "Amazon Customer                                             4.285714                                                                                               \n",
              "Chris                                                       0.000000                                                                                               \n",
              "Cliente de Amazon                                           4.000000                                                                                               \n",
              "Daniel                                                      0.000000                                                                                               \n",
              "\n",
              "title_y            Apple MGLW2LL/A iPad Air 2 9.7-Inch Retina Display, 16GB, Wi-Fi (Silver) (Renewed)  \\\n",
              "name                                                                                                    \n",
              "Alex                                                        0.000000                                    \n",
              "Amazon Customer                                             4.461538                                    \n",
              "Chris                                                       0.000000                                    \n",
              "Cliente de Amazon                                           0.000000                                    \n",
              "Daniel                                                      0.000000                                    \n",
              "\n",
              "title_y            Apple iPad Air MF529LL/A (32GB, Wi-Fi + at&T, White with Silver) (Renewed)  \\\n",
              "name                                                                                            \n",
              "Alex                                                             0.0                            \n",
              "Amazon Customer                                                  2.5                            \n",
              "Chris                                                            0.0                            \n",
              "Cliente de Amazon                                                0.0                            \n",
              "Daniel                                                           0.0                            \n",
              "\n",
              "title_y            Apple iPad mini 4 (32GB, Wi-Fi + Cellular, Space Gray) (Renewed)  \\\n",
              "name                                                                                  \n",
              "Alex                                                             0.0                  \n",
              "Amazon Customer                                                  5.0                  \n",
              "Chris                                                            0.0                  \n",
              "Cliente de Amazon                                                0.0                  \n",
              "Daniel                                                           0.0                  \n",
              "\n",
              "title_y            Apple iPhone 11 Pro, 64GB, Fully Unlocked - Space Gray (Renewed)  \\\n",
              "name                                                                                  \n",
              "Alex                                                             0.0                  \n",
              "Amazon Customer                                                  1.0                  \n",
              "Chris                                                            0.0                  \n",
              "Cliente de Amazon                                                0.0                  \n",
              "Daniel                                                           0.0                  \n",
              "\n",
              "title_y            Apple iPhone 6S Plus, 16GB, Silver - For AT&T / T-Mobile (Renewed)  \\\n",
              "name                                                                                    \n",
              "Alex                                                        0.000000                    \n",
              "Amazon Customer                                             3.727273                    \n",
              "Chris                                                       0.000000                    \n",
              "Cliente de Amazon                                           3.666667                    \n",
              "Daniel                                                      0.000000                    \n",
              "\n",
              "title_y            Apple iPhone 6S Plus, 64GB, Rose Gold - For AT&T / T-Mobile (Renewed)  \\\n",
              "name                                                                                       \n",
              "Alex                                                             0.0                       \n",
              "Amazon Customer                                                  3.0                       \n",
              "Chris                                                            0.0                       \n",
              "Cliente de Amazon                                                0.0                       \n",
              "Daniel                                                           0.0                       \n",
              "\n",
              "title_y            Apple iPhone 6S Plus, 64GB, Silver - Fully Unlocked (Renewed)  \\\n",
              "name                                                                               \n",
              "Alex                                                             0.0               \n",
              "Amazon Customer                                                  4.0               \n",
              "Chris                                                            0.0               \n",
              "Cliente de Amazon                                                0.0               \n",
              "Daniel                                                           0.0               \n",
              "\n",
              "title_y            Apple iPhone 6S, 128GB, Rose Gold - For AT&T / T-Mobile (Renewed)  \\\n",
              "name                                                                                   \n",
              "Alex                                                             0.0                   \n",
              "Amazon Customer                                                  3.0                   \n",
              "Chris                                                            0.0                   \n",
              "Cliente de Amazon                                                0.0                   \n",
              "Daniel                                                           0.0                   \n",
              "\n",
              "title_y            ...  \\\n",
              "name               ...   \n",
              "Alex               ...   \n",
              "Amazon Customer    ...   \n",
              "Chris              ...   \n",
              "Cliente de Amazon  ...   \n",
              "Daniel             ...   \n",
              "\n",
              "title_y            Xiaomi Redmi Note 7 (64GB, 4GB) 6.3\" Display, 48MP + 5MP AI Dual Rear Camera, Global 4G LTE Dual SIM GSM Factory Unlocked (International Model w/ 64GB MicroSD Bundle) (Black)  \\\n",
              "name                                                                                                                                                                                                \n",
              "Alex                                                             5.0                                                                                                                                \n",
              "Amazon Customer                                                  0.0                                                                                                                                \n",
              "Chris                                                            0.0                                                                                                                                \n",
              "Cliente de Amazon                                                0.0                                                                                                                                \n",
              "Daniel                                                           0.0                                                                                                                                \n",
              "\n",
              "title_y            Xiaomi Redmi Note 7 128GB + 4GB RAM 6.3\" FHD+ LTE Factory Unlocked 48MP GSM Smartphone (Global Version, No Warranty) (Neptune Blue)  \\\n",
              "name                                                                                                                                                     \n",
              "Alex                                                        0.000000                                                                                     \n",
              "Amazon Customer                                             3.833333                                                                                     \n",
              "Chris                                                       0.000000                                                                                     \n",
              "Cliente de Amazon                                           0.000000                                                                                     \n",
              "Daniel                                                      0.000000                                                                                     \n",
              "\n",
              "title_y            Xiaomi Redmi Note 7 128GB + 4GB RAM 6.3\" FHD+ LTE Factory Unlocked 48MP GSM Smartphone (Global Version, No Warranty) (Space Black)  \\\n",
              "name                                                                                                                                                    \n",
              "Alex                                                             5.0                                                                                    \n",
              "Amazon Customer                                                  3.2                                                                                    \n",
              "Chris                                                            5.0                                                                                    \n",
              "Cliente de Amazon                                                0.0                                                                                    \n",
              "Daniel                                                           1.0                                                                                    \n",
              "\n",
              "title_y            Xiaomi Redmi Note 7, 64GB/4GB RAM, 6.30'' FHD+, Snapdragon 660, Black - Unlocked Global Version  \\\n",
              "name                                                                                                                 \n",
              "Alex                                                        3.000000                                                 \n",
              "Amazon Customer                                             4.139535                                                 \n",
              "Chris                                                       4.000000                                                 \n",
              "Cliente de Amazon                                           5.000000                                                 \n",
              "Daniel                                                      0.000000                                                 \n",
              "\n",
              "title_y            Xiaomi Redmi Note 7, 64GB/4GB RAM, 6.30'' FHD+, Snapdragon 660, Blue - Unlocked Global Version, No Warranty  \\\n",
              "name                                                                                                                             \n",
              "Alex                                                        0.000000                                                             \n",
              "Amazon Customer                                             4.346154                                                             \n",
              "Chris                                                       4.000000                                                             \n",
              "Cliente de Amazon                                           0.000000                                                             \n",
              "Daniel                                                      5.000000                                                             \n",
              "\n",
              "title_y            Xiaomi Redmi Note 8 64GB + 4GB RAM, 6.3\" LTE 48MP Factory Unlocked GSM Smartphone - International Version (Moonlight White)  \\\n",
              "name                                                                                                                                             \n",
              "Alex                                                            0.00                                                                             \n",
              "Amazon Customer                                                 3.75                                                                             \n",
              "Chris                                                           0.00                                                                             \n",
              "Cliente de Amazon                                               5.00                                                                             \n",
              "Daniel                                                          0.00                                                                             \n",
              "\n",
              "title_y            Xiaomi Redmi Note 8 64GB + 4GB RAM, 6.3\" LTE 48MP Factory Unlocked GSM Smartphone - International Version (Space Black)  \\\n",
              "name                                                                                                                                         \n",
              "Alex                                                            0.00                                                                         \n",
              "Amazon Customer                                                 3.75                                                                         \n",
              "Chris                                                           0.00                                                                         \n",
              "Cliente de Amazon                                               5.00                                                                         \n",
              "Daniel                                                          0.00                                                                         \n",
              "\n",
              "title_y            Xiaomi Redmi Note 8 Pro (64GB, 6GB) 6.53\", 64MP Quad Camera, Helio G90T Gaming Processor, Dual SIM GSM Unlocked - US & Global 4G LTE International Version (Pearl White, 64 GB)  \\\n",
              "name                                                                                                                                                                                                 \n",
              "Alex                                                            0.00                                                                                                                                 \n",
              "Amazon Customer                                                 4.75                                                                                                                                 \n",
              "Chris                                                           0.00                                                                                                                                 \n",
              "Cliente de Amazon                                               5.00                                                                                                                                 \n",
              "Daniel                                                          0.00                                                                                                                                 \n",
              "\n",
              "title_y            Xiaomi Redmi Note 8 Pro 128GB, 6GB RAM 6.53\" LTE GSM 64MP Smartphone - Global Model (Mineral Grey)  \\\n",
              "name                                                                                                                    \n",
              "Alex                                                        0.000000                                                    \n",
              "Amazon Customer                                             4.333333                                                    \n",
              "Chris                                                       0.000000                                                    \n",
              "Cliente de Amazon                                           0.000000                                                    \n",
              "Daniel                                                      0.000000                                                    \n",
              "\n",
              "title_y            Xiaomi Redmi Note 8 Pro 64GB, 6GB RAM 6.53\" LTE GSM 64MP Factory Unlocked Smartphone - Global Model (Mineral Grey)  \n",
              "name                                                                                                                                   \n",
              "Alex                                                            0.00                                                                   \n",
              "Amazon Customer                                                 4.75                                                                   \n",
              "Chris                                                           0.00                                                                   \n",
              "Cliente de Amazon                                               5.00                                                                   \n",
              "Daniel                                                          0.00                                                                   \n",
              "\n",
              "[5 rows x 544 columns]"
            ],
            "text/html": "<div>\n<style scoped>\n    .dataframe tbody tr th:only-of-type {\n        vertical-align: middle;\n    }\n\n    .dataframe tbody tr th {\n        vertical-align: top;\n    }\n\n    .dataframe thead th {\n        text-align: right;\n    }\n</style>\n<table border=\"1\" class=\"dataframe\">\n  <thead>\n    <tr style=\"text-align: right;\">\n      <th>title_y</th>\n      <th>ASUS ZenFone 5Z (ZS620KL-S845-6G64G) - 6.2” FHD+ 2160x1080 display - 6GB RAM - 64GB storage - LTE Unlocked Dual SIM Cell Phone - US Warranty - Midnight Blue</th>\n      <th>ASUS ZenFone Max Plus ZB570TL-MT67-3G32G-BL - 5.7” 1920x1080-3GB RAM - 32GB storage - LTE Unlocked Dual SIM Cell Phone - US Warranty - Silver</th>\n      <th>Apple MGLW2LL/A iPad Air 2 9.7-Inch Retina Display, 16GB, Wi-Fi (Silver) (Renewed)</th>\n      <th>Apple iPad Air MF529LL/A (32GB, Wi-Fi + at&amp;T, White with Silver) (Renewed)</th>\n      <th>Apple iPad mini 4 (32GB, Wi-Fi + Cellular, Space Gray) (Renewed)</th>\n      <th>Apple iPhone 11 Pro, 64GB, Fully Unlocked - Space Gray (Renewed)</th>\n      <th>Apple iPhone 6S Plus, 16GB, Silver - For AT&amp;T / T-Mobile (Renewed)</th>\n      <th>Apple iPhone 6S Plus, 64GB, Rose Gold - For AT&amp;T / T-Mobile (Renewed)</th>\n      <th>Apple iPhone 6S Plus, 64GB, Silver - Fully Unlocked (Renewed)</th>\n      <th>Apple iPhone 6S, 128GB, Rose Gold - For AT&amp;T / T-Mobile (Renewed)</th>\n      <th>...</th>\n      <th>Xiaomi Redmi Note 7 (64GB, 4GB) 6.3\" Display, 48MP + 5MP AI Dual Rear Camera, Global 4G LTE Dual SIM GSM Factory Unlocked (International Model w/ 64GB MicroSD Bundle) (Black)</th>\n      <th>Xiaomi Redmi Note 7 128GB + 4GB RAM 6.3\" FHD+ LTE Factory Unlocked 48MP GSM Smartphone (Global Version, No Warranty) (Neptune Blue)</th>\n      <th>Xiaomi Redmi Note 7 128GB + 4GB RAM 6.3\" FHD+ LTE Factory Unlocked 48MP GSM Smartphone (Global Version, No Warranty) (Space Black)</th>\n      <th>Xiaomi Redmi Note 7, 64GB/4GB RAM, 6.30'' FHD+, Snapdragon 660, Black - Unlocked Global Version</th>\n      <th>Xiaomi Redmi Note 7, 64GB/4GB RAM, 6.30'' FHD+, Snapdragon 660, Blue - Unlocked Global Version, No Warranty</th>\n      <th>Xiaomi Redmi Note 8 64GB + 4GB RAM, 6.3\" LTE 48MP Factory Unlocked GSM Smartphone - International Version (Moonlight White)</th>\n      <th>Xiaomi Redmi Note 8 64GB + 4GB RAM, 6.3\" LTE 48MP Factory Unlocked GSM Smartphone - International Version (Space Black)</th>\n      <th>Xiaomi Redmi Note 8 Pro (64GB, 6GB) 6.53\", 64MP Quad Camera, Helio G90T Gaming Processor, Dual SIM GSM Unlocked - US &amp; Global 4G LTE International Version (Pearl White, 64 GB)</th>\n      <th>Xiaomi Redmi Note 8 Pro 128GB, 6GB RAM 6.53\" LTE GSM 64MP Smartphone - Global Model (Mineral Grey)</th>\n      <th>Xiaomi Redmi Note 8 Pro 64GB, 6GB RAM 6.53\" LTE GSM 64MP Factory Unlocked Smartphone - Global Model (Mineral Grey)</th>\n    </tr>\n    <tr>\n      <th>name</th>\n      <th></th>\n      <th></th>\n      <th></th>\n      <th></th>\n      <th></th>\n      <th></th>\n      <th></th>\n      <th></th>\n      <th></th>\n      <th></th>\n      <th></th>\n      <th></th>\n      <th></th>\n      <th></th>\n      <th></th>\n      <th></th>\n      <th></th>\n      <th></th>\n      <th></th>\n      <th></th>\n      <th></th>\n    </tr>\n  </thead>\n  <tbody>\n    <tr>\n      <th>Alex</th>\n      <td>0.0</td>\n      <td>0.000000</td>\n      <td>0.000000</td>\n      <td>0.0</td>\n      <td>0.0</td>\n      <td>0.0</td>\n      <td>0.000000</td>\n      <td>0.0</td>\n      <td>0.0</td>\n      <td>0.0</td>\n      <td>...</td>\n      <td>5.0</td>\n      <td>0.000000</td>\n      <td>5.0</td>\n      <td>3.000000</td>\n      <td>0.000000</td>\n      <td>0.00</td>\n      <td>0.00</td>\n      <td>0.00</td>\n      <td>0.000000</td>\n      <td>0.00</td>\n    </tr>\n    <tr>\n      <th>Amazon Customer</th>\n      <td>4.8</td>\n      <td>4.285714</td>\n      <td>4.461538</td>\n      <td>2.5</td>\n      <td>5.0</td>\n      <td>1.0</td>\n      <td>3.727273</td>\n      <td>3.0</td>\n      <td>4.0</td>\n      <td>3.0</td>\n      <td>...</td>\n      <td>0.0</td>\n      <td>3.833333</td>\n      <td>3.2</td>\n      <td>4.139535</td>\n      <td>4.346154</td>\n      <td>3.75</td>\n      <td>3.75</td>\n      <td>4.75</td>\n      <td>4.333333</td>\n      <td>4.75</td>\n    </tr>\n    <tr>\n      <th>Chris</th>\n      <td>0.0</td>\n      <td>0.000000</td>\n      <td>0.000000</td>\n      <td>0.0</td>\n      <td>0.0</td>\n      <td>0.0</td>\n      <td>0.000000</td>\n      <td>0.0</td>\n      <td>0.0</td>\n      <td>0.0</td>\n      <td>...</td>\n      <td>0.0</td>\n      <td>0.000000</td>\n      <td>5.0</td>\n      <td>4.000000</td>\n      <td>4.000000</td>\n      <td>0.00</td>\n      <td>0.00</td>\n      <td>0.00</td>\n      <td>0.000000</td>\n      <td>0.00</td>\n    </tr>\n    <tr>\n      <th>Cliente de Amazon</th>\n      <td>5.0</td>\n      <td>4.000000</td>\n      <td>0.000000</td>\n      <td>0.0</td>\n      <td>0.0</td>\n      <td>0.0</td>\n      <td>3.666667</td>\n      <td>0.0</td>\n      <td>0.0</td>\n      <td>0.0</td>\n      <td>...</td>\n      <td>0.0</td>\n      <td>0.000000</td>\n      <td>0.0</td>\n      <td>5.000000</td>\n      <td>0.000000</td>\n      <td>5.00</td>\n      <td>5.00</td>\n      <td>5.00</td>\n      <td>0.000000</td>\n      <td>5.00</td>\n    </tr>\n    <tr>\n      <th>Daniel</th>\n      <td>0.0</td>\n      <td>0.000000</td>\n      <td>0.000000</td>\n      <td>0.0</td>\n      <td>0.0</td>\n      <td>0.0</td>\n      <td>0.000000</td>\n      <td>0.0</td>\n      <td>0.0</td>\n      <td>0.0</td>\n      <td>...</td>\n      <td>0.0</td>\n      <td>0.000000</td>\n      <td>1.0</td>\n      <td>0.000000</td>\n      <td>5.000000</td>\n      <td>0.00</td>\n      <td>0.00</td>\n      <td>0.00</td>\n      <td>0.000000</td>\n      <td>0.00</td>\n    </tr>\n  </tbody>\n</table>\n<p>5 rows × 544 columns</p>\n</div>"
          },
          "metadata": {},
          "execution_count": 27
        }
      ],
      "source": [
        "# User-based Collaborative Filtering\n",
        "# Membuat matrix dengan perbaris user dan kolom per item \n",
        "pivot_df = pd.pivot_table(dataframe_CF,index=['name'], columns = 'title_y', values = \"rating_x\")\n",
        "pivot_df.fillna(0,inplace=True)\n",
        "print(pivot_df.shape)\n",
        "pivot_df.head()"
      ]
    },
    {
      "cell_type": "code",
      "execution_count": null,
      "metadata": {
        "id": "G-IGi8MAOARb",
        "outputId": "3e9b6fb9-bb18-4085-aca5-b2693825faf6"
      },
      "outputs": [
        {
          "output_type": "execute_result",
          "data": {
            "text/plain": [
              "title_y            ASUS ZenFone 5Z (ZS620KL-S845-6G64G) - 6.2” FHD+ 2160x1080 display - 6GB RAM - 64GB storage - LTE Unlocked Dual SIM Cell Phone - US Warranty - Midnight Blue  \\\n",
              "name                                                                                                                                                                              \n",
              "Alex                                                             0.0                                                                                                              \n",
              "Amazon Customer                                                  4.8                                                                                                              \n",
              "Chris                                                            0.0                                                                                                              \n",
              "Cliente de Amazon                                                5.0                                                                                                              \n",
              "Daniel                                                           0.0                                                                                                              \n",
              "\n",
              "title_y            ASUS ZenFone Max Plus ZB570TL-MT67-3G32G-BL - 5.7” 1920x1080-3GB RAM - 32GB storage - LTE Unlocked Dual SIM Cell Phone - US Warranty - Silver  \\\n",
              "name                                                                                                                                                               \n",
              "Alex                                                        0.000000                                                                                               \n",
              "Amazon Customer                                             4.285714                                                                                               \n",
              "Chris                                                       0.000000                                                                                               \n",
              "Cliente de Amazon                                           4.000000                                                                                               \n",
              "Daniel                                                      0.000000                                                                                               \n",
              "\n",
              "title_y            Apple MGLW2LL/A iPad Air 2 9.7-Inch Retina Display, 16GB, Wi-Fi (Silver) (Renewed)  \\\n",
              "name                                                                                                    \n",
              "Alex                                                        0.000000                                    \n",
              "Amazon Customer                                             4.461538                                    \n",
              "Chris                                                       0.000000                                    \n",
              "Cliente de Amazon                                           0.000000                                    \n",
              "Daniel                                                      0.000000                                    \n",
              "\n",
              "title_y            Apple iPad Air MF529LL/A (32GB, Wi-Fi + at&T, White with Silver) (Renewed)  \\\n",
              "name                                                                                            \n",
              "Alex                                                             0.0                            \n",
              "Amazon Customer                                                  2.5                            \n",
              "Chris                                                            0.0                            \n",
              "Cliente de Amazon                                                0.0                            \n",
              "Daniel                                                           0.0                            \n",
              "\n",
              "title_y            Apple iPad mini 4 (32GB, Wi-Fi + Cellular, Space Gray) (Renewed)  \\\n",
              "name                                                                                  \n",
              "Alex                                                             0.0                  \n",
              "Amazon Customer                                                  5.0                  \n",
              "Chris                                                            0.0                  \n",
              "Cliente de Amazon                                                0.0                  \n",
              "Daniel                                                           0.0                  \n",
              "\n",
              "title_y            Apple iPhone 11 Pro, 64GB, Fully Unlocked - Space Gray (Renewed)  \\\n",
              "name                                                                                  \n",
              "Alex                                                             0.0                  \n",
              "Amazon Customer                                                  1.0                  \n",
              "Chris                                                            0.0                  \n",
              "Cliente de Amazon                                                0.0                  \n",
              "Daniel                                                           0.0                  \n",
              "\n",
              "title_y            Apple iPhone 6S Plus, 16GB, Silver - For AT&T / T-Mobile (Renewed)  \\\n",
              "name                                                                                    \n",
              "Alex                                                        0.000000                    \n",
              "Amazon Customer                                             3.727273                    \n",
              "Chris                                                       0.000000                    \n",
              "Cliente de Amazon                                           3.666667                    \n",
              "Daniel                                                      0.000000                    \n",
              "\n",
              "title_y            Apple iPhone 6S Plus, 64GB, Rose Gold - For AT&T / T-Mobile (Renewed)  \\\n",
              "name                                                                                       \n",
              "Alex                                                             0.0                       \n",
              "Amazon Customer                                                  3.0                       \n",
              "Chris                                                            0.0                       \n",
              "Cliente de Amazon                                                0.0                       \n",
              "Daniel                                                           0.0                       \n",
              "\n",
              "title_y            Apple iPhone 6S Plus, 64GB, Silver - Fully Unlocked (Renewed)  \\\n",
              "name                                                                               \n",
              "Alex                                                             0.0               \n",
              "Amazon Customer                                                  4.0               \n",
              "Chris                                                            0.0               \n",
              "Cliente de Amazon                                                0.0               \n",
              "Daniel                                                           0.0               \n",
              "\n",
              "title_y            Apple iPhone 6S, 128GB, Rose Gold - For AT&T / T-Mobile (Renewed)  \\\n",
              "name                                                                                   \n",
              "Alex                                                             0.0                   \n",
              "Amazon Customer                                                  3.0                   \n",
              "Chris                                                            0.0                   \n",
              "Cliente de Amazon                                                0.0                   \n",
              "Daniel                                                           0.0                   \n",
              "\n",
              "title_y            ...  \\\n",
              "name               ...   \n",
              "Alex               ...   \n",
              "Amazon Customer    ...   \n",
              "Chris              ...   \n",
              "Cliente de Amazon  ...   \n",
              "Daniel             ...   \n",
              "\n",
              "title_y            Xiaomi Redmi Note 7 128GB + 4GB RAM 6.3\" FHD+ LTE Factory Unlocked 48MP GSM Smartphone (Global Version, No Warranty) (Neptune Blue)  \\\n",
              "name                                                                                                                                                     \n",
              "Alex                                                        0.000000                                                                                     \n",
              "Amazon Customer                                             3.833333                                                                                     \n",
              "Chris                                                       0.000000                                                                                     \n",
              "Cliente de Amazon                                           0.000000                                                                                     \n",
              "Daniel                                                      0.000000                                                                                     \n",
              "\n",
              "title_y            Xiaomi Redmi Note 7 128GB + 4GB RAM 6.3\" FHD+ LTE Factory Unlocked 48MP GSM Smartphone (Global Version, No Warranty) (Space Black)  \\\n",
              "name                                                                                                                                                    \n",
              "Alex                                                             5.0                                                                                    \n",
              "Amazon Customer                                                  3.2                                                                                    \n",
              "Chris                                                            5.0                                                                                    \n",
              "Cliente de Amazon                                                0.0                                                                                    \n",
              "Daniel                                                           1.0                                                                                    \n",
              "\n",
              "title_y            Xiaomi Redmi Note 7, 64GB/4GB RAM, 6.30'' FHD+, Snapdragon 660, Black - Unlocked Global Version  \\\n",
              "name                                                                                                                 \n",
              "Alex                                                        3.000000                                                 \n",
              "Amazon Customer                                             4.139535                                                 \n",
              "Chris                                                       4.000000                                                 \n",
              "Cliente de Amazon                                           5.000000                                                 \n",
              "Daniel                                                      0.000000                                                 \n",
              "\n",
              "title_y            Xiaomi Redmi Note 7, 64GB/4GB RAM, 6.30'' FHD+, Snapdragon 660, Blue - Unlocked Global Version, No Warranty  \\\n",
              "name                                                                                                                             \n",
              "Alex                                                        0.000000                                                             \n",
              "Amazon Customer                                             4.346154                                                             \n",
              "Chris                                                       4.000000                                                             \n",
              "Cliente de Amazon                                           0.000000                                                             \n",
              "Daniel                                                      5.000000                                                             \n",
              "\n",
              "title_y            Xiaomi Redmi Note 8 64GB + 4GB RAM, 6.3\" LTE 48MP Factory Unlocked GSM Smartphone - International Version (Moonlight White)  \\\n",
              "name                                                                                                                                             \n",
              "Alex                                                            0.00                                                                             \n",
              "Amazon Customer                                                 3.75                                                                             \n",
              "Chris                                                           0.00                                                                             \n",
              "Cliente de Amazon                                               5.00                                                                             \n",
              "Daniel                                                          0.00                                                                             \n",
              "\n",
              "title_y            Xiaomi Redmi Note 8 64GB + 4GB RAM, 6.3\" LTE 48MP Factory Unlocked GSM Smartphone - International Version (Space Black)  \\\n",
              "name                                                                                                                                         \n",
              "Alex                                                            0.00                                                                         \n",
              "Amazon Customer                                                 3.75                                                                         \n",
              "Chris                                                           0.00                                                                         \n",
              "Cliente de Amazon                                               5.00                                                                         \n",
              "Daniel                                                          0.00                                                                         \n",
              "\n",
              "title_y            Xiaomi Redmi Note 8 Pro (64GB, 6GB) 6.53\", 64MP Quad Camera, Helio G90T Gaming Processor, Dual SIM GSM Unlocked - US & Global 4G LTE International Version (Pearl White, 64 GB)  \\\n",
              "name                                                                                                                                                                                                 \n",
              "Alex                                                            0.00                                                                                                                                 \n",
              "Amazon Customer                                                 4.75                                                                                                                                 \n",
              "Chris                                                           0.00                                                                                                                                 \n",
              "Cliente de Amazon                                               5.00                                                                                                                                 \n",
              "Daniel                                                          0.00                                                                                                                                 \n",
              "\n",
              "title_y            Xiaomi Redmi Note 8 Pro 128GB, 6GB RAM 6.53\" LTE GSM 64MP Smartphone - Global Model (Mineral Grey)  \\\n",
              "name                                                                                                                    \n",
              "Alex                                                        0.000000                                                    \n",
              "Amazon Customer                                             4.333333                                                    \n",
              "Chris                                                       0.000000                                                    \n",
              "Cliente de Amazon                                           0.000000                                                    \n",
              "Daniel                                                      0.000000                                                    \n",
              "\n",
              "title_y            Xiaomi Redmi Note 8 Pro 64GB, 6GB RAM 6.53\" LTE GSM 64MP Factory Unlocked Smartphone - Global Model (Mineral Grey)  \\\n",
              "name                                                                                                                                    \n",
              "Alex                                                            0.00                                                                    \n",
              "Amazon Customer                                                 4.75                                                                    \n",
              "Chris                                                           0.00                                                                    \n",
              "Cliente de Amazon                                               5.00                                                                    \n",
              "Daniel                                                          0.00                                                                    \n",
              "\n",
              "title_y            user_index  \n",
              "name                           \n",
              "Alex                        0  \n",
              "Amazon Customer             1  \n",
              "Chris                       2  \n",
              "Cliente de Amazon           3  \n",
              "Daniel                      4  \n",
              "\n",
              "[5 rows x 545 columns]"
            ],
            "text/html": "<div>\n<style scoped>\n    .dataframe tbody tr th:only-of-type {\n        vertical-align: middle;\n    }\n\n    .dataframe tbody tr th {\n        vertical-align: top;\n    }\n\n    .dataframe thead th {\n        text-align: right;\n    }\n</style>\n<table border=\"1\" class=\"dataframe\">\n  <thead>\n    <tr style=\"text-align: right;\">\n      <th>title_y</th>\n      <th>ASUS ZenFone 5Z (ZS620KL-S845-6G64G) - 6.2” FHD+ 2160x1080 display - 6GB RAM - 64GB storage - LTE Unlocked Dual SIM Cell Phone - US Warranty - Midnight Blue</th>\n      <th>ASUS ZenFone Max Plus ZB570TL-MT67-3G32G-BL - 5.7” 1920x1080-3GB RAM - 32GB storage - LTE Unlocked Dual SIM Cell Phone - US Warranty - Silver</th>\n      <th>Apple MGLW2LL/A iPad Air 2 9.7-Inch Retina Display, 16GB, Wi-Fi (Silver) (Renewed)</th>\n      <th>Apple iPad Air MF529LL/A (32GB, Wi-Fi + at&amp;T, White with Silver) (Renewed)</th>\n      <th>Apple iPad mini 4 (32GB, Wi-Fi + Cellular, Space Gray) (Renewed)</th>\n      <th>Apple iPhone 11 Pro, 64GB, Fully Unlocked - Space Gray (Renewed)</th>\n      <th>Apple iPhone 6S Plus, 16GB, Silver - For AT&amp;T / T-Mobile (Renewed)</th>\n      <th>Apple iPhone 6S Plus, 64GB, Rose Gold - For AT&amp;T / T-Mobile (Renewed)</th>\n      <th>Apple iPhone 6S Plus, 64GB, Silver - Fully Unlocked (Renewed)</th>\n      <th>Apple iPhone 6S, 128GB, Rose Gold - For AT&amp;T / T-Mobile (Renewed)</th>\n      <th>...</th>\n      <th>Xiaomi Redmi Note 7 128GB + 4GB RAM 6.3\" FHD+ LTE Factory Unlocked 48MP GSM Smartphone (Global Version, No Warranty) (Neptune Blue)</th>\n      <th>Xiaomi Redmi Note 7 128GB + 4GB RAM 6.3\" FHD+ LTE Factory Unlocked 48MP GSM Smartphone (Global Version, No Warranty) (Space Black)</th>\n      <th>Xiaomi Redmi Note 7, 64GB/4GB RAM, 6.30'' FHD+, Snapdragon 660, Black - Unlocked Global Version</th>\n      <th>Xiaomi Redmi Note 7, 64GB/4GB RAM, 6.30'' FHD+, Snapdragon 660, Blue - Unlocked Global Version, No Warranty</th>\n      <th>Xiaomi Redmi Note 8 64GB + 4GB RAM, 6.3\" LTE 48MP Factory Unlocked GSM Smartphone - International Version (Moonlight White)</th>\n      <th>Xiaomi Redmi Note 8 64GB + 4GB RAM, 6.3\" LTE 48MP Factory Unlocked GSM Smartphone - International Version (Space Black)</th>\n      <th>Xiaomi Redmi Note 8 Pro (64GB, 6GB) 6.53\", 64MP Quad Camera, Helio G90T Gaming Processor, Dual SIM GSM Unlocked - US &amp; Global 4G LTE International Version (Pearl White, 64 GB)</th>\n      <th>Xiaomi Redmi Note 8 Pro 128GB, 6GB RAM 6.53\" LTE GSM 64MP Smartphone - Global Model (Mineral Grey)</th>\n      <th>Xiaomi Redmi Note 8 Pro 64GB, 6GB RAM 6.53\" LTE GSM 64MP Factory Unlocked Smartphone - Global Model (Mineral Grey)</th>\n      <th>user_index</th>\n    </tr>\n    <tr>\n      <th>name</th>\n      <th></th>\n      <th></th>\n      <th></th>\n      <th></th>\n      <th></th>\n      <th></th>\n      <th></th>\n      <th></th>\n      <th></th>\n      <th></th>\n      <th></th>\n      <th></th>\n      <th></th>\n      <th></th>\n      <th></th>\n      <th></th>\n      <th></th>\n      <th></th>\n      <th></th>\n      <th></th>\n      <th></th>\n    </tr>\n  </thead>\n  <tbody>\n    <tr>\n      <th>Alex</th>\n      <td>0.0</td>\n      <td>0.000000</td>\n      <td>0.000000</td>\n      <td>0.0</td>\n      <td>0.0</td>\n      <td>0.0</td>\n      <td>0.000000</td>\n      <td>0.0</td>\n      <td>0.0</td>\n      <td>0.0</td>\n      <td>...</td>\n      <td>0.000000</td>\n      <td>5.0</td>\n      <td>3.000000</td>\n      <td>0.000000</td>\n      <td>0.00</td>\n      <td>0.00</td>\n      <td>0.00</td>\n      <td>0.000000</td>\n      <td>0.00</td>\n      <td>0</td>\n    </tr>\n    <tr>\n      <th>Amazon Customer</th>\n      <td>4.8</td>\n      <td>4.285714</td>\n      <td>4.461538</td>\n      <td>2.5</td>\n      <td>5.0</td>\n      <td>1.0</td>\n      <td>3.727273</td>\n      <td>3.0</td>\n      <td>4.0</td>\n      <td>3.0</td>\n      <td>...</td>\n      <td>3.833333</td>\n      <td>3.2</td>\n      <td>4.139535</td>\n      <td>4.346154</td>\n      <td>3.75</td>\n      <td>3.75</td>\n      <td>4.75</td>\n      <td>4.333333</td>\n      <td>4.75</td>\n      <td>1</td>\n    </tr>\n    <tr>\n      <th>Chris</th>\n      <td>0.0</td>\n      <td>0.000000</td>\n      <td>0.000000</td>\n      <td>0.0</td>\n      <td>0.0</td>\n      <td>0.0</td>\n      <td>0.000000</td>\n      <td>0.0</td>\n      <td>0.0</td>\n      <td>0.0</td>\n      <td>...</td>\n      <td>0.000000</td>\n      <td>5.0</td>\n      <td>4.000000</td>\n      <td>4.000000</td>\n      <td>0.00</td>\n      <td>0.00</td>\n      <td>0.00</td>\n      <td>0.000000</td>\n      <td>0.00</td>\n      <td>2</td>\n    </tr>\n    <tr>\n      <th>Cliente de Amazon</th>\n      <td>5.0</td>\n      <td>4.000000</td>\n      <td>0.000000</td>\n      <td>0.0</td>\n      <td>0.0</td>\n      <td>0.0</td>\n      <td>3.666667</td>\n      <td>0.0</td>\n      <td>0.0</td>\n      <td>0.0</td>\n      <td>...</td>\n      <td>0.000000</td>\n      <td>0.0</td>\n      <td>5.000000</td>\n      <td>0.000000</td>\n      <td>5.00</td>\n      <td>5.00</td>\n      <td>5.00</td>\n      <td>0.000000</td>\n      <td>5.00</td>\n      <td>3</td>\n    </tr>\n    <tr>\n      <th>Daniel</th>\n      <td>0.0</td>\n      <td>0.000000</td>\n      <td>0.000000</td>\n      <td>0.0</td>\n      <td>0.0</td>\n      <td>0.0</td>\n      <td>0.000000</td>\n      <td>0.0</td>\n      <td>0.0</td>\n      <td>0.0</td>\n      <td>...</td>\n      <td>0.000000</td>\n      <td>1.0</td>\n      <td>0.000000</td>\n      <td>5.000000</td>\n      <td>0.00</td>\n      <td>0.00</td>\n      <td>0.00</td>\n      <td>0.000000</td>\n      <td>0.00</td>\n      <td>4</td>\n    </tr>\n  </tbody>\n</table>\n<p>5 rows × 545 columns</p>\n</div>"
          },
          "metadata": {},
          "execution_count": 28
        }
      ],
      "source": [
        "pivot_df['user_index'] = np.arange(0, pivot_df.shape[0], 1)\n",
        "pivot_df.head()"
      ]
    },
    {
      "cell_type": "code",
      "execution_count": null,
      "metadata": {
        "id": "fAFeycHkOARb",
        "outputId": "ec9fa383-57f9-4ebf-e584-c74da569f222"
      },
      "outputs": [
        {
          "output_type": "execute_result",
          "data": {
            "text/plain": [
              "title_y     ASUS ZenFone 5Z (ZS620KL-S845-6G64G) - 6.2” FHD+ 2160x1080 display - 6GB RAM - 64GB storage - LTE Unlocked Dual SIM Cell Phone - US Warranty - Midnight Blue  \\\n",
              "user_index                                                                                                                                                                 \n",
              "0                                                         0.0                                                                                                              \n",
              "1                                                         4.8                                                                                                              \n",
              "2                                                         0.0                                                                                                              \n",
              "3                                                         5.0                                                                                                              \n",
              "4                                                         0.0                                                                                                              \n",
              "\n",
              "title_y     ASUS ZenFone Max Plus ZB570TL-MT67-3G32G-BL - 5.7” 1920x1080-3GB RAM - 32GB storage - LTE Unlocked Dual SIM Cell Phone - US Warranty - Silver  \\\n",
              "user_index                                                                                                                                                  \n",
              "0                                                    0.000000                                                                                               \n",
              "1                                                    4.285714                                                                                               \n",
              "2                                                    0.000000                                                                                               \n",
              "3                                                    4.000000                                                                                               \n",
              "4                                                    0.000000                                                                                               \n",
              "\n",
              "title_y     Apple MGLW2LL/A iPad Air 2 9.7-Inch Retina Display, 16GB, Wi-Fi (Silver) (Renewed)  \\\n",
              "user_index                                                                                       \n",
              "0                                                    0.000000                                    \n",
              "1                                                    4.461538                                    \n",
              "2                                                    0.000000                                    \n",
              "3                                                    0.000000                                    \n",
              "4                                                    0.000000                                    \n",
              "\n",
              "title_y     Apple iPad Air MF529LL/A (32GB, Wi-Fi + at&T, White with Silver) (Renewed)  \\\n",
              "user_index                                                                               \n",
              "0                                                         0.0                            \n",
              "1                                                         2.5                            \n",
              "2                                                         0.0                            \n",
              "3                                                         0.0                            \n",
              "4                                                         0.0                            \n",
              "\n",
              "title_y     Apple iPad mini 4 (32GB, Wi-Fi + Cellular, Space Gray) (Renewed)  \\\n",
              "user_index                                                                     \n",
              "0                                                         0.0                  \n",
              "1                                                         5.0                  \n",
              "2                                                         0.0                  \n",
              "3                                                         0.0                  \n",
              "4                                                         0.0                  \n",
              "\n",
              "title_y     Apple iPhone 11 Pro, 64GB, Fully Unlocked - Space Gray (Renewed)  \\\n",
              "user_index                                                                     \n",
              "0                                                         0.0                  \n",
              "1                                                         1.0                  \n",
              "2                                                         0.0                  \n",
              "3                                                         0.0                  \n",
              "4                                                         0.0                  \n",
              "\n",
              "title_y     Apple iPhone 6S Plus, 16GB, Silver - For AT&T / T-Mobile (Renewed)  \\\n",
              "user_index                                                                       \n",
              "0                                                    0.000000                    \n",
              "1                                                    3.727273                    \n",
              "2                                                    0.000000                    \n",
              "3                                                    3.666667                    \n",
              "4                                                    0.000000                    \n",
              "\n",
              "title_y     Apple iPhone 6S Plus, 64GB, Rose Gold - For AT&T / T-Mobile (Renewed)  \\\n",
              "user_index                                                                          \n",
              "0                                                         0.0                       \n",
              "1                                                         3.0                       \n",
              "2                                                         0.0                       \n",
              "3                                                         0.0                       \n",
              "4                                                         0.0                       \n",
              "\n",
              "title_y     Apple iPhone 6S Plus, 64GB, Silver - Fully Unlocked (Renewed)  \\\n",
              "user_index                                                                  \n",
              "0                                                         0.0               \n",
              "1                                                         4.0               \n",
              "2                                                         0.0               \n",
              "3                                                         0.0               \n",
              "4                                                         0.0               \n",
              "\n",
              "title_y     Apple iPhone 6S, 128GB, Rose Gold - For AT&T / T-Mobile (Renewed)  \\\n",
              "user_index                                                                      \n",
              "0                                                         0.0                   \n",
              "1                                                         3.0                   \n",
              "2                                                         0.0                   \n",
              "3                                                         0.0                   \n",
              "4                                                         0.0                   \n",
              "\n",
              "title_y     ...  \\\n",
              "user_index  ...   \n",
              "0           ...   \n",
              "1           ...   \n",
              "2           ...   \n",
              "3           ...   \n",
              "4           ...   \n",
              "\n",
              "title_y     Xiaomi Redmi Note 7 (64GB, 4GB) 6.3\" Display, 48MP + 5MP AI Dual Rear Camera, Global 4G LTE Dual SIM GSM Factory Unlocked (International Model w/ 64GB MicroSD Bundle) (Black)  \\\n",
              "user_index                                                                                                                                                                                   \n",
              "0                                                         5.0                                                                                                                                \n",
              "1                                                         0.0                                                                                                                                \n",
              "2                                                         0.0                                                                                                                                \n",
              "3                                                         0.0                                                                                                                                \n",
              "4                                                         0.0                                                                                                                                \n",
              "\n",
              "title_y     Xiaomi Redmi Note 7 128GB + 4GB RAM 6.3\" FHD+ LTE Factory Unlocked 48MP GSM Smartphone (Global Version, No Warranty) (Neptune Blue)  \\\n",
              "user_index                                                                                                                                        \n",
              "0                                                    0.000000                                                                                     \n",
              "1                                                    3.833333                                                                                     \n",
              "2                                                    0.000000                                                                                     \n",
              "3                                                    0.000000                                                                                     \n",
              "4                                                    0.000000                                                                                     \n",
              "\n",
              "title_y     Xiaomi Redmi Note 7 128GB + 4GB RAM 6.3\" FHD+ LTE Factory Unlocked 48MP GSM Smartphone (Global Version, No Warranty) (Space Black)  \\\n",
              "user_index                                                                                                                                       \n",
              "0                                                         5.0                                                                                    \n",
              "1                                                         3.2                                                                                    \n",
              "2                                                         5.0                                                                                    \n",
              "3                                                         0.0                                                                                    \n",
              "4                                                         1.0                                                                                    \n",
              "\n",
              "title_y     Xiaomi Redmi Note 7, 64GB/4GB RAM, 6.30'' FHD+, Snapdragon 660, Black - Unlocked Global Version  \\\n",
              "user_index                                                                                                    \n",
              "0                                                    3.000000                                                 \n",
              "1                                                    4.139535                                                 \n",
              "2                                                    4.000000                                                 \n",
              "3                                                    5.000000                                                 \n",
              "4                                                    0.000000                                                 \n",
              "\n",
              "title_y     Xiaomi Redmi Note 7, 64GB/4GB RAM, 6.30'' FHD+, Snapdragon 660, Blue - Unlocked Global Version, No Warranty  \\\n",
              "user_index                                                                                                                \n",
              "0                                                    0.000000                                                             \n",
              "1                                                    4.346154                                                             \n",
              "2                                                    4.000000                                                             \n",
              "3                                                    0.000000                                                             \n",
              "4                                                    5.000000                                                             \n",
              "\n",
              "title_y     Xiaomi Redmi Note 8 64GB + 4GB RAM, 6.3\" LTE 48MP Factory Unlocked GSM Smartphone - International Version (Moonlight White)  \\\n",
              "user_index                                                                                                                                \n",
              "0                                                        0.00                                                                             \n",
              "1                                                        3.75                                                                             \n",
              "2                                                        0.00                                                                             \n",
              "3                                                        5.00                                                                             \n",
              "4                                                        0.00                                                                             \n",
              "\n",
              "title_y     Xiaomi Redmi Note 8 64GB + 4GB RAM, 6.3\" LTE 48MP Factory Unlocked GSM Smartphone - International Version (Space Black)  \\\n",
              "user_index                                                                                                                            \n",
              "0                                                        0.00                                                                         \n",
              "1                                                        3.75                                                                         \n",
              "2                                                        0.00                                                                         \n",
              "3                                                        5.00                                                                         \n",
              "4                                                        0.00                                                                         \n",
              "\n",
              "title_y     Xiaomi Redmi Note 8 Pro (64GB, 6GB) 6.53\", 64MP Quad Camera, Helio G90T Gaming Processor, Dual SIM GSM Unlocked - US & Global 4G LTE International Version (Pearl White, 64 GB)  \\\n",
              "user_index                                                                                                                                                                                    \n",
              "0                                                        0.00                                                                                                                                 \n",
              "1                                                        4.75                                                                                                                                 \n",
              "2                                                        0.00                                                                                                                                 \n",
              "3                                                        5.00                                                                                                                                 \n",
              "4                                                        0.00                                                                                                                                 \n",
              "\n",
              "title_y     Xiaomi Redmi Note 8 Pro 128GB, 6GB RAM 6.53\" LTE GSM 64MP Smartphone - Global Model (Mineral Grey)  \\\n",
              "user_index                                                                                                       \n",
              "0                                                    0.000000                                                    \n",
              "1                                                    4.333333                                                    \n",
              "2                                                    0.000000                                                    \n",
              "3                                                    0.000000                                                    \n",
              "4                                                    0.000000                                                    \n",
              "\n",
              "title_y     Xiaomi Redmi Note 8 Pro 64GB, 6GB RAM 6.53\" LTE GSM 64MP Factory Unlocked Smartphone - Global Model (Mineral Grey)  \n",
              "user_index                                                                                                                      \n",
              "0                                                        0.00                                                                   \n",
              "1                                                        4.75                                                                   \n",
              "2                                                        0.00                                                                   \n",
              "3                                                        5.00                                                                   \n",
              "4                                                        0.00                                                                   \n",
              "\n",
              "[5 rows x 544 columns]"
            ],
            "text/html": "<div>\n<style scoped>\n    .dataframe tbody tr th:only-of-type {\n        vertical-align: middle;\n    }\n\n    .dataframe tbody tr th {\n        vertical-align: top;\n    }\n\n    .dataframe thead th {\n        text-align: right;\n    }\n</style>\n<table border=\"1\" class=\"dataframe\">\n  <thead>\n    <tr style=\"text-align: right;\">\n      <th>title_y</th>\n      <th>ASUS ZenFone 5Z (ZS620KL-S845-6G64G) - 6.2” FHD+ 2160x1080 display - 6GB RAM - 64GB storage - LTE Unlocked Dual SIM Cell Phone - US Warranty - Midnight Blue</th>\n      <th>ASUS ZenFone Max Plus ZB570TL-MT67-3G32G-BL - 5.7” 1920x1080-3GB RAM - 32GB storage - LTE Unlocked Dual SIM Cell Phone - US Warranty - Silver</th>\n      <th>Apple MGLW2LL/A iPad Air 2 9.7-Inch Retina Display, 16GB, Wi-Fi (Silver) (Renewed)</th>\n      <th>Apple iPad Air MF529LL/A (32GB, Wi-Fi + at&amp;T, White with Silver) (Renewed)</th>\n      <th>Apple iPad mini 4 (32GB, Wi-Fi + Cellular, Space Gray) (Renewed)</th>\n      <th>Apple iPhone 11 Pro, 64GB, Fully Unlocked - Space Gray (Renewed)</th>\n      <th>Apple iPhone 6S Plus, 16GB, Silver - For AT&amp;T / T-Mobile (Renewed)</th>\n      <th>Apple iPhone 6S Plus, 64GB, Rose Gold - For AT&amp;T / T-Mobile (Renewed)</th>\n      <th>Apple iPhone 6S Plus, 64GB, Silver - Fully Unlocked (Renewed)</th>\n      <th>Apple iPhone 6S, 128GB, Rose Gold - For AT&amp;T / T-Mobile (Renewed)</th>\n      <th>...</th>\n      <th>Xiaomi Redmi Note 7 (64GB, 4GB) 6.3\" Display, 48MP + 5MP AI Dual Rear Camera, Global 4G LTE Dual SIM GSM Factory Unlocked (International Model w/ 64GB MicroSD Bundle) (Black)</th>\n      <th>Xiaomi Redmi Note 7 128GB + 4GB RAM 6.3\" FHD+ LTE Factory Unlocked 48MP GSM Smartphone (Global Version, No Warranty) (Neptune Blue)</th>\n      <th>Xiaomi Redmi Note 7 128GB + 4GB RAM 6.3\" FHD+ LTE Factory Unlocked 48MP GSM Smartphone (Global Version, No Warranty) (Space Black)</th>\n      <th>Xiaomi Redmi Note 7, 64GB/4GB RAM, 6.30'' FHD+, Snapdragon 660, Black - Unlocked Global Version</th>\n      <th>Xiaomi Redmi Note 7, 64GB/4GB RAM, 6.30'' FHD+, Snapdragon 660, Blue - Unlocked Global Version, No Warranty</th>\n      <th>Xiaomi Redmi Note 8 64GB + 4GB RAM, 6.3\" LTE 48MP Factory Unlocked GSM Smartphone - International Version (Moonlight White)</th>\n      <th>Xiaomi Redmi Note 8 64GB + 4GB RAM, 6.3\" LTE 48MP Factory Unlocked GSM Smartphone - International Version (Space Black)</th>\n      <th>Xiaomi Redmi Note 8 Pro (64GB, 6GB) 6.53\", 64MP Quad Camera, Helio G90T Gaming Processor, Dual SIM GSM Unlocked - US &amp; Global 4G LTE International Version (Pearl White, 64 GB)</th>\n      <th>Xiaomi Redmi Note 8 Pro 128GB, 6GB RAM 6.53\" LTE GSM 64MP Smartphone - Global Model (Mineral Grey)</th>\n      <th>Xiaomi Redmi Note 8 Pro 64GB, 6GB RAM 6.53\" LTE GSM 64MP Factory Unlocked Smartphone - Global Model (Mineral Grey)</th>\n    </tr>\n    <tr>\n      <th>user_index</th>\n      <th></th>\n      <th></th>\n      <th></th>\n      <th></th>\n      <th></th>\n      <th></th>\n      <th></th>\n      <th></th>\n      <th></th>\n      <th></th>\n      <th></th>\n      <th></th>\n      <th></th>\n      <th></th>\n      <th></th>\n      <th></th>\n      <th></th>\n      <th></th>\n      <th></th>\n      <th></th>\n      <th></th>\n    </tr>\n  </thead>\n  <tbody>\n    <tr>\n      <th>0</th>\n      <td>0.0</td>\n      <td>0.000000</td>\n      <td>0.000000</td>\n      <td>0.0</td>\n      <td>0.0</td>\n      <td>0.0</td>\n      <td>0.000000</td>\n      <td>0.0</td>\n      <td>0.0</td>\n      <td>0.0</td>\n      <td>...</td>\n      <td>5.0</td>\n      <td>0.000000</td>\n      <td>5.0</td>\n      <td>3.000000</td>\n      <td>0.000000</td>\n      <td>0.00</td>\n      <td>0.00</td>\n      <td>0.00</td>\n      <td>0.000000</td>\n      <td>0.00</td>\n    </tr>\n    <tr>\n      <th>1</th>\n      <td>4.8</td>\n      <td>4.285714</td>\n      <td>4.461538</td>\n      <td>2.5</td>\n      <td>5.0</td>\n      <td>1.0</td>\n      <td>3.727273</td>\n      <td>3.0</td>\n      <td>4.0</td>\n      <td>3.0</td>\n      <td>...</td>\n      <td>0.0</td>\n      <td>3.833333</td>\n      <td>3.2</td>\n      <td>4.139535</td>\n      <td>4.346154</td>\n      <td>3.75</td>\n      <td>3.75</td>\n      <td>4.75</td>\n      <td>4.333333</td>\n      <td>4.75</td>\n    </tr>\n    <tr>\n      <th>2</th>\n      <td>0.0</td>\n      <td>0.000000</td>\n      <td>0.000000</td>\n      <td>0.0</td>\n      <td>0.0</td>\n      <td>0.0</td>\n      <td>0.000000</td>\n      <td>0.0</td>\n      <td>0.0</td>\n      <td>0.0</td>\n      <td>...</td>\n      <td>0.0</td>\n      <td>0.000000</td>\n      <td>5.0</td>\n      <td>4.000000</td>\n      <td>4.000000</td>\n      <td>0.00</td>\n      <td>0.00</td>\n      <td>0.00</td>\n      <td>0.000000</td>\n      <td>0.00</td>\n    </tr>\n    <tr>\n      <th>3</th>\n      <td>5.0</td>\n      <td>4.000000</td>\n      <td>0.000000</td>\n      <td>0.0</td>\n      <td>0.0</td>\n      <td>0.0</td>\n      <td>3.666667</td>\n      <td>0.0</td>\n      <td>0.0</td>\n      <td>0.0</td>\n      <td>...</td>\n      <td>0.0</td>\n      <td>0.000000</td>\n      <td>0.0</td>\n      <td>5.000000</td>\n      <td>0.000000</td>\n      <td>5.00</td>\n      <td>5.00</td>\n      <td>5.00</td>\n      <td>0.000000</td>\n      <td>5.00</td>\n    </tr>\n    <tr>\n      <th>4</th>\n      <td>0.0</td>\n      <td>0.000000</td>\n      <td>0.000000</td>\n      <td>0.0</td>\n      <td>0.0</td>\n      <td>0.0</td>\n      <td>0.000000</td>\n      <td>0.0</td>\n      <td>0.0</td>\n      <td>0.0</td>\n      <td>...</td>\n      <td>0.0</td>\n      <td>0.000000</td>\n      <td>1.0</td>\n      <td>0.000000</td>\n      <td>5.000000</td>\n      <td>0.00</td>\n      <td>0.00</td>\n      <td>0.00</td>\n      <td>0.000000</td>\n      <td>0.00</td>\n    </tr>\n  </tbody>\n</table>\n<p>5 rows × 544 columns</p>\n</div>"
          },
          "metadata": {},
          "execution_count": 29
        }
      ],
      "source": [
        "pivot_df.set_index(['user_index'], inplace=True)\n",
        "# Actual rating yang diberikan oleh user\n",
        "pivot_df.head()"
      ]
    },
    {
      "cell_type": "code",
      "execution_count": null,
      "metadata": {
        "id": "WRmwBPc0OARc"
      },
      "outputs": [],
      "source": [
        "# Algoritma SVD (Singular Value Decomposition)\n",
        "from scipy.sparse.linalg import svds\n",
        "U, sigma, Vt = svds(pivot_df, k = 5)\n",
        "# Membuat diagonal array di SVD\n",
        "sigma = np.diag(sigma)"
      ]
    },
    {
      "cell_type": "code",
      "execution_count": null,
      "metadata": {
        "id": "30JoiK0XOARc",
        "outputId": "aae0ec32-4c29-4e5c-8ddd-3b5f6408ac23"
      },
      "outputs": [
        {
          "output_type": "execute_result",
          "data": {
            "text/plain": [
              "title_y  ASUS ZenFone 5Z (ZS620KL-S845-6G64G) - 6.2” FHD+ 2160x1080 display - 6GB RAM - 64GB storage - LTE Unlocked Dual SIM Cell Phone - US Warranty - Midnight Blue  \\\n",
              "0                                                 0.566869                                                                                                              \n",
              "1                                                 4.971791                                                                                                              \n",
              "2                                                -0.412390                                                                                                              \n",
              "3                                                 3.003619                                                                                                              \n",
              "4                                                 0.162604                                                                                                              \n",
              "\n",
              "title_y  ASUS ZenFone Max Plus ZB570TL-MT67-3G32G-BL - 5.7” 1920x1080-3GB RAM - 32GB storage - LTE Unlocked Dual SIM Cell Phone - US Warranty - Silver  \\\n",
              "0                                                 0.524041                                                                                               \n",
              "1                                                 4.418183                                                                                               \n",
              "2                                                -0.359164                                                                                               \n",
              "3                                                 2.444426                                                                                               \n",
              "4                                                 0.169483                                                                                               \n",
              "\n",
              "title_y  Apple MGLW2LL/A iPad Air 2 9.7-Inch Retina Display, 16GB, Wi-Fi (Silver) (Renewed)  \\\n",
              "0                                                 1.094380                                    \n",
              "1                                                 4.322717                                    \n",
              "2                                                 0.371140                                    \n",
              "3                                                 1.774161                                    \n",
              "4                                                 0.879300                                    \n",
              "\n",
              "title_y  Apple iPad Air MF529LL/A (32GB, Wi-Fi + at&T, White with Silver) (Renewed)  \\\n",
              "0                                                -0.039902                            \n",
              "1                                                 2.488917                            \n",
              "2                                                -0.044709                            \n",
              "3                                                 0.096535                            \n",
              "4                                                 0.013190                            \n",
              "\n",
              "title_y  Apple iPad mini 4 (32GB, Wi-Fi + Cellular, Space Gray) (Renewed)  \\\n",
              "0                                                -0.079803                  \n",
              "1                                                 4.977834                  \n",
              "2                                                -0.089417                  \n",
              "3                                                 0.193070                  \n",
              "4                                                 0.026379                  \n",
              "\n",
              "title_y  Apple iPhone 11 Pro, 64GB, Fully Unlocked - Space Gray (Renewed)  \\\n",
              "0                                                -0.015961                  \n",
              "1                                                 0.995567                  \n",
              "2                                                -0.017883                  \n",
              "3                                                 0.038614                  \n",
              "4                                                 0.005276                  \n",
              "\n",
              "title_y  Apple iPhone 6S Plus, 16GB, Silver - For AT&T / T-Mobile (Renewed)  \\\n",
              "0                                                 0.754850                    \n",
              "1                                                 3.852206                    \n",
              "2                                                 0.254979                    \n",
              "3                                                 2.448613                    \n",
              "4                                                 0.431809                    \n",
              "\n",
              "title_y  Apple iPhone 6S Plus, 64GB, Rose Gold - For AT&T / T-Mobile (Renewed)  \\\n",
              "0                                                -0.047882                       \n",
              "1                                                 2.986700                       \n",
              "2                                                -0.053650                       \n",
              "3                                                 0.115842                       \n",
              "4                                                 0.015828                       \n",
              "\n",
              "title_y  Apple iPhone 6S Plus, 64GB, Silver - Fully Unlocked (Renewed)  \\\n",
              "0                                                -0.063843               \n",
              "1                                                 3.982267               \n",
              "2                                                -0.071534               \n",
              "3                                                 0.154456               \n",
              "4                                                 0.021103               \n",
              "\n",
              "title_y  Apple iPhone 6S, 128GB, Rose Gold - For AT&T / T-Mobile (Renewed)  \\\n",
              "0                                                -0.047882                   \n",
              "1                                                 2.986700                   \n",
              "2                                                -0.053650                   \n",
              "3                                                 0.115842                   \n",
              "4                                                 0.015828                   \n",
              "\n",
              "title_y  ...  \\\n",
              "0        ...   \n",
              "1        ...   \n",
              "2        ...   \n",
              "3        ...   \n",
              "4        ...   \n",
              "\n",
              "title_y  Xiaomi Redmi Note 7 (64GB, 4GB) 6.3\" Display, 48MP + 5MP AI Dual Rear Camera, Global 4G LTE Dual SIM GSM Factory Unlocked (International Model w/ 64GB MicroSD Bundle) (Black)  \\\n",
              "0                                                 0.644624                                                                                                                                \n",
              "1                                                -0.079803                                                                                                                                \n",
              "2                                                 0.266949                                                                                                                                \n",
              "3                                                 0.643481                                                                                                                                \n",
              "4                                                 0.494736                                                                                                                                \n",
              "\n",
              "title_y  Xiaomi Redmi Note 7 128GB + 4GB RAM 6.3\" FHD+ LTE Factory Unlocked 48MP GSM Smartphone (Global Version, No Warranty) (Neptune Blue)  \\\n",
              "0                                                -0.061183                                                                                     \n",
              "1                                                 3.816339                                                                                     \n",
              "2                                                -0.068553                                                                                     \n",
              "3                                                 0.148020                                                                                     \n",
              "4                                                 0.020224                                                                                     \n",
              "\n",
              "title_y  Xiaomi Redmi Note 7 128GB + 4GB RAM 6.3\" FHD+ LTE Factory Unlocked 48MP GSM Smartphone (Global Version, No Warranty) (Space Black)  \\\n",
              "0                                                 1.865850                                                                                    \n",
              "1                                                 2.918998                                                                                    \n",
              "2                                                 2.931252                                                                                    \n",
              "3                                                 2.329761                                                                                    \n",
              "4                                                 1.614506                                                                                    \n",
              "\n",
              "title_y  Xiaomi Redmi Note 7, 64GB/4GB RAM, 6.30'' FHD+, Snapdragon 660, Black - Unlocked Global Version  \\\n",
              "0                                                 1.410722                                                 \n",
              "1                                                 4.185875                                                 \n",
              "2                                                 0.796110                                                 \n",
              "3                                                 3.175923                                                 \n",
              "4                                                 0.873404                                                 \n",
              "\n",
              "title_y  Xiaomi Redmi Note 7, 64GB/4GB RAM, 6.30'' FHD+, Snapdragon 660, Blue - Unlocked Global Version, No Warranty  \\\n",
              "0                                                 1.634230                                                             \n",
              "1                                                 4.432123                                                             \n",
              "2                                                 2.552452                                                             \n",
              "3                                                -0.990359                                                             \n",
              "4                                                 1.779540                                                             \n",
              "\n",
              "title_y  Xiaomi Redmi Note 8 64GB + 4GB RAM, 6.3\" LTE 48MP Factory Unlocked GSM Smartphone - International Version (Moonlight White)  \\\n",
              "0                                                 0.583628                                                                             \n",
              "1                                                 3.926446                                                                             \n",
              "2                                                -0.393613                                                                             \n",
              "3                                                 2.963074                                                                             \n",
              "4                                                 0.157065                                                                             \n",
              "\n",
              "title_y  Xiaomi Redmi Note 8 64GB + 4GB RAM, 6.3\" LTE 48MP Factory Unlocked GSM Smartphone - International Version (Space Black)  \\\n",
              "0                                                 0.583628                                                                         \n",
              "1                                                 3.926446                                                                         \n",
              "2                                                -0.393613                                                                         \n",
              "3                                                 2.963074                                                                         \n",
              "4                                                 0.157065                                                                         \n",
              "\n",
              "title_y  Xiaomi Redmi Note 8 Pro (64GB, 6GB) 6.53\", 64MP Quad Camera, Helio G90T Gaming Processor, Dual SIM GSM Unlocked - US & Global 4G LTE International Version (Pearl White, 64 GB)  \\\n",
              "0                                                 0.990223                                                                                                                                 \n",
              "1                                                 4.886411                                                                                                                                 \n",
              "2                                                 1.026759                                                                                                                                 \n",
              "3                                                 4.197251                                                                                                                                 \n",
              "4                                                 0.313164                                                                                                                                 \n",
              "\n",
              "title_y  Xiaomi Redmi Note 8 Pro 128GB, 6GB RAM 6.53\" LTE GSM 64MP Smartphone - Global Model (Mineral Grey)  \\\n",
              "0                                                 0.241473                                                    \n",
              "1                                                 4.302172                                                    \n",
              "2                                                -0.162619                                                    \n",
              "3                                                 0.264606                                                    \n",
              "4                                                 0.171055                                                    \n",
              "\n",
              "title_y  Xiaomi Redmi Note 8 Pro 64GB, 6GB RAM 6.53\" LTE GSM 64MP Factory Unlocked Smartphone - Global Model (Mineral Grey)  \n",
              "0                                                 0.990223                                                                   \n",
              "1                                                 4.886411                                                                   \n",
              "2                                                 1.026759                                                                   \n",
              "3                                                 4.197251                                                                   \n",
              "4                                                 0.313164                                                                   \n",
              "\n",
              "[5 rows x 544 columns]"
            ],
            "text/html": "<div>\n<style scoped>\n    .dataframe tbody tr th:only-of-type {\n        vertical-align: middle;\n    }\n\n    .dataframe tbody tr th {\n        vertical-align: top;\n    }\n\n    .dataframe thead th {\n        text-align: right;\n    }\n</style>\n<table border=\"1\" class=\"dataframe\">\n  <thead>\n    <tr style=\"text-align: right;\">\n      <th>title_y</th>\n      <th>ASUS ZenFone 5Z (ZS620KL-S845-6G64G) - 6.2” FHD+ 2160x1080 display - 6GB RAM - 64GB storage - LTE Unlocked Dual SIM Cell Phone - US Warranty - Midnight Blue</th>\n      <th>ASUS ZenFone Max Plus ZB570TL-MT67-3G32G-BL - 5.7” 1920x1080-3GB RAM - 32GB storage - LTE Unlocked Dual SIM Cell Phone - US Warranty - Silver</th>\n      <th>Apple MGLW2LL/A iPad Air 2 9.7-Inch Retina Display, 16GB, Wi-Fi (Silver) (Renewed)</th>\n      <th>Apple iPad Air MF529LL/A (32GB, Wi-Fi + at&amp;T, White with Silver) (Renewed)</th>\n      <th>Apple iPad mini 4 (32GB, Wi-Fi + Cellular, Space Gray) (Renewed)</th>\n      <th>Apple iPhone 11 Pro, 64GB, Fully Unlocked - Space Gray (Renewed)</th>\n      <th>Apple iPhone 6S Plus, 16GB, Silver - For AT&amp;T / T-Mobile (Renewed)</th>\n      <th>Apple iPhone 6S Plus, 64GB, Rose Gold - For AT&amp;T / T-Mobile (Renewed)</th>\n      <th>Apple iPhone 6S Plus, 64GB, Silver - Fully Unlocked (Renewed)</th>\n      <th>Apple iPhone 6S, 128GB, Rose Gold - For AT&amp;T / T-Mobile (Renewed)</th>\n      <th>...</th>\n      <th>Xiaomi Redmi Note 7 (64GB, 4GB) 6.3\" Display, 48MP + 5MP AI Dual Rear Camera, Global 4G LTE Dual SIM GSM Factory Unlocked (International Model w/ 64GB MicroSD Bundle) (Black)</th>\n      <th>Xiaomi Redmi Note 7 128GB + 4GB RAM 6.3\" FHD+ LTE Factory Unlocked 48MP GSM Smartphone (Global Version, No Warranty) (Neptune Blue)</th>\n      <th>Xiaomi Redmi Note 7 128GB + 4GB RAM 6.3\" FHD+ LTE Factory Unlocked 48MP GSM Smartphone (Global Version, No Warranty) (Space Black)</th>\n      <th>Xiaomi Redmi Note 7, 64GB/4GB RAM, 6.30'' FHD+, Snapdragon 660, Black - Unlocked Global Version</th>\n      <th>Xiaomi Redmi Note 7, 64GB/4GB RAM, 6.30'' FHD+, Snapdragon 660, Blue - Unlocked Global Version, No Warranty</th>\n      <th>Xiaomi Redmi Note 8 64GB + 4GB RAM, 6.3\" LTE 48MP Factory Unlocked GSM Smartphone - International Version (Moonlight White)</th>\n      <th>Xiaomi Redmi Note 8 64GB + 4GB RAM, 6.3\" LTE 48MP Factory Unlocked GSM Smartphone - International Version (Space Black)</th>\n      <th>Xiaomi Redmi Note 8 Pro (64GB, 6GB) 6.53\", 64MP Quad Camera, Helio G90T Gaming Processor, Dual SIM GSM Unlocked - US &amp; Global 4G LTE International Version (Pearl White, 64 GB)</th>\n      <th>Xiaomi Redmi Note 8 Pro 128GB, 6GB RAM 6.53\" LTE GSM 64MP Smartphone - Global Model (Mineral Grey)</th>\n      <th>Xiaomi Redmi Note 8 Pro 64GB, 6GB RAM 6.53\" LTE GSM 64MP Factory Unlocked Smartphone - Global Model (Mineral Grey)</th>\n    </tr>\n  </thead>\n  <tbody>\n    <tr>\n      <th>0</th>\n      <td>0.566869</td>\n      <td>0.524041</td>\n      <td>1.094380</td>\n      <td>-0.039902</td>\n      <td>-0.079803</td>\n      <td>-0.015961</td>\n      <td>0.754850</td>\n      <td>-0.047882</td>\n      <td>-0.063843</td>\n      <td>-0.047882</td>\n      <td>...</td>\n      <td>0.644624</td>\n      <td>-0.061183</td>\n      <td>1.865850</td>\n      <td>1.410722</td>\n      <td>1.634230</td>\n      <td>0.583628</td>\n      <td>0.583628</td>\n      <td>0.990223</td>\n      <td>0.241473</td>\n      <td>0.990223</td>\n    </tr>\n    <tr>\n      <th>1</th>\n      <td>4.971791</td>\n      <td>4.418183</td>\n      <td>4.322717</td>\n      <td>2.488917</td>\n      <td>4.977834</td>\n      <td>0.995567</td>\n      <td>3.852206</td>\n      <td>2.986700</td>\n      <td>3.982267</td>\n      <td>2.986700</td>\n      <td>...</td>\n      <td>-0.079803</td>\n      <td>3.816339</td>\n      <td>2.918998</td>\n      <td>4.185875</td>\n      <td>4.432123</td>\n      <td>3.926446</td>\n      <td>3.926446</td>\n      <td>4.886411</td>\n      <td>4.302172</td>\n      <td>4.886411</td>\n    </tr>\n    <tr>\n      <th>2</th>\n      <td>-0.412390</td>\n      <td>-0.359164</td>\n      <td>0.371140</td>\n      <td>-0.044709</td>\n      <td>-0.089417</td>\n      <td>-0.017883</td>\n      <td>0.254979</td>\n      <td>-0.053650</td>\n      <td>-0.071534</td>\n      <td>-0.053650</td>\n      <td>...</td>\n      <td>0.266949</td>\n      <td>-0.068553</td>\n      <td>2.931252</td>\n      <td>0.796110</td>\n      <td>2.552452</td>\n      <td>-0.393613</td>\n      <td>-0.393613</td>\n      <td>1.026759</td>\n      <td>-0.162619</td>\n      <td>1.026759</td>\n    </tr>\n    <tr>\n      <th>3</th>\n      <td>3.003619</td>\n      <td>2.444426</td>\n      <td>1.774161</td>\n      <td>0.096535</td>\n      <td>0.193070</td>\n      <td>0.038614</td>\n      <td>2.448613</td>\n      <td>0.115842</td>\n      <td>0.154456</td>\n      <td>0.115842</td>\n      <td>...</td>\n      <td>0.643481</td>\n      <td>0.148020</td>\n      <td>2.329761</td>\n      <td>3.175923</td>\n      <td>-0.990359</td>\n      <td>2.963074</td>\n      <td>2.963074</td>\n      <td>4.197251</td>\n      <td>0.264606</td>\n      <td>4.197251</td>\n    </tr>\n    <tr>\n      <th>4</th>\n      <td>0.162604</td>\n      <td>0.169483</td>\n      <td>0.879300</td>\n      <td>0.013190</td>\n      <td>0.026379</td>\n      <td>0.005276</td>\n      <td>0.431809</td>\n      <td>0.015828</td>\n      <td>0.021103</td>\n      <td>0.015828</td>\n      <td>...</td>\n      <td>0.494736</td>\n      <td>0.020224</td>\n      <td>1.614506</td>\n      <td>0.873404</td>\n      <td>1.779540</td>\n      <td>0.157065</td>\n      <td>0.157065</td>\n      <td>0.313164</td>\n      <td>0.171055</td>\n      <td>0.313164</td>\n    </tr>\n  </tbody>\n</table>\n<p>5 rows × 544 columns</p>\n</div>"
          },
          "metadata": {},
          "execution_count": 31
        }
      ],
      "source": [
        "all_user_predicted_ratings = np.dot(np.dot(U, sigma), Vt) \n",
        "\n",
        "# Predicted ratings\n",
        "preds_df = pd.DataFrame(all_user_predicted_ratings, columns = pivot_df.columns)\n",
        "preds_df.head()"
      ]
    },
    {
      "cell_type": "code",
      "execution_count": null,
      "metadata": {
        "id": "wpEoSzKSOARc"
      },
      "outputs": [],
      "source": [
        "# Rekomendasikan item dengan prediksi rating tertinggi\n",
        "\n",
        "def recommend_items(userID, pivot_df, preds_df, jumlah_recommendations):\n",
        "    #Dapatkan dan urutkan rating user  \n",
        "    user_idx = userID-1 #index dimulai dari 0\n",
        "        \n",
        "    #urutkan rating user\n",
        "    sorted_user_ratings = pivot_df.iloc[user_idx].sort_values(ascending=False)\n",
        "    #Urutkan prediksi user\n",
        "    sorted_user_predictions = preds_df.iloc[user_idx].sort_values(ascending=False)\n",
        "    \n",
        "    temp = pd.concat([sorted_user_ratings, sorted_user_predictions], axis=1)\n",
        "       \n",
        "    temp.index.name = 'Recommended Items'\n",
        "    temp.columns = ['user_ratings', 'user_predictions']\n",
        "\n",
        "    temp = temp.loc[temp.user_ratings == 0]   \n",
        "    temp = temp.sort_values('user_predictions', ascending=False)\n",
        "    \n",
        "    print('\\nRecommended items oleh user(user_id = {}):\\n'.format(userID))\n",
        "    print(temp.head(jumlah_recommendations))"
      ]
    },
    {
      "cell_type": "code",
      "execution_count": null,
      "metadata": {
        "id": "38i_KzvqOARc",
        "outputId": "4a698b6f-a8c6-428f-c955-343e9f2ee4e4"
      },
      "outputs": [
        {
          "output_type": "stream",
          "name": "stdout",
          "text": [
            "\nRecommended items oleh user(user_id = 8):\n\n                                                    user_ratings  \\\nRecommended Items                                                  \nSamsung Galaxy S10 Factory Unlocked Phone with ...           0.0   \nMoto G7 – Unlocked – 64 GB – Ceramic Black (US ...           0.0   \nSony Xperia XA1 Ultra G3223 32GB Unlocked GSM L...           0.0   \nSamsung Galaxy S6 G920 32GB Unlocked GSM 4G LTE...           0.0   \nApple iPhone X, Unlocked 5.8\", 64GB - Space Gra...           0.0   \n\n                                                    user_predictions  \nRecommended Items                                                     \nSamsung Galaxy S10 Factory Unlocked Phone with ...          2.670170  \nMoto G7 – Unlocked – 64 GB – Ceramic Black (US ...          2.582244  \nSony Xperia XA1 Ultra G3223 32GB Unlocked GSM L...          2.236673  \nSamsung Galaxy S6 G920 32GB Unlocked GSM 4G LTE...          2.077758  \nApple iPhone X, Unlocked 5.8\", 64GB - Space Gra...          2.076415  \n"
          ]
        }
      ],
      "source": [
        "# Masukkan 'userID' dan 'jumlah_recommendations' for the user \n",
        "userID = 8\n",
        "jumlah_recommendations = 5\n",
        "recommend_items(userID, pivot_df, preds_df, jumlah_recommendations)"
      ]
    },
    {
      "cell_type": "code",
      "execution_count": null,
      "metadata": {
        "id": "1MARdC8zOARc",
        "outputId": "2618c06f-fd39-48bf-db9f-95b73e895005"
      },
      "outputs": [
        {
          "output_type": "execute_result",
          "data": {
            "text/plain": [
              "title_y            ASUS ZenFone 5Z (ZS620KL-S845-6G64G) - 6.2” FHD+ 2160x1080 display - 6GB RAM - 64GB storage - LTE Unlocked Dual SIM Cell Phone - US Warranty - Midnight Blue  \\\n",
              "name                                                                                                                                                                              \n",
              "Alex                                                             0.0                                                                                                              \n",
              "Amazon Customer                                                  4.8                                                                                                              \n",
              "Chris                                                            0.0                                                                                                              \n",
              "Cliente de Amazon                                                5.0                                                                                                              \n",
              "Daniel                                                           0.0                                                                                                              \n",
              "\n",
              "title_y            ASUS ZenFone Max Plus ZB570TL-MT67-3G32G-BL - 5.7” 1920x1080-3GB RAM - 32GB storage - LTE Unlocked Dual SIM Cell Phone - US Warranty - Silver  \\\n",
              "name                                                                                                                                                               \n",
              "Alex                                                        0.000000                                                                                               \n",
              "Amazon Customer                                             4.285714                                                                                               \n",
              "Chris                                                       0.000000                                                                                               \n",
              "Cliente de Amazon                                           4.000000                                                                                               \n",
              "Daniel                                                      0.000000                                                                                               \n",
              "\n",
              "title_y            Apple MGLW2LL/A iPad Air 2 9.7-Inch Retina Display, 16GB, Wi-Fi (Silver) (Renewed)  \\\n",
              "name                                                                                                    \n",
              "Alex                                                        0.000000                                    \n",
              "Amazon Customer                                             4.461538                                    \n",
              "Chris                                                       0.000000                                    \n",
              "Cliente de Amazon                                           0.000000                                    \n",
              "Daniel                                                      0.000000                                    \n",
              "\n",
              "title_y            Apple iPad Air MF529LL/A (32GB, Wi-Fi + at&T, White with Silver) (Renewed)  \\\n",
              "name                                                                                            \n",
              "Alex                                                             0.0                            \n",
              "Amazon Customer                                                  2.5                            \n",
              "Chris                                                            0.0                            \n",
              "Cliente de Amazon                                                0.0                            \n",
              "Daniel                                                           0.0                            \n",
              "\n",
              "title_y            Apple iPad mini 4 (32GB, Wi-Fi + Cellular, Space Gray) (Renewed)  \\\n",
              "name                                                                                  \n",
              "Alex                                                             0.0                  \n",
              "Amazon Customer                                                  5.0                  \n",
              "Chris                                                            0.0                  \n",
              "Cliente de Amazon                                                0.0                  \n",
              "Daniel                                                           0.0                  \n",
              "\n",
              "title_y            Apple iPhone 11 Pro, 64GB, Fully Unlocked - Space Gray (Renewed)  \\\n",
              "name                                                                                  \n",
              "Alex                                                             0.0                  \n",
              "Amazon Customer                                                  1.0                  \n",
              "Chris                                                            0.0                  \n",
              "Cliente de Amazon                                                0.0                  \n",
              "Daniel                                                           0.0                  \n",
              "\n",
              "title_y            Apple iPhone 6S Plus, 16GB, Silver - For AT&T / T-Mobile (Renewed)  \\\n",
              "name                                                                                    \n",
              "Alex                                                        0.000000                    \n",
              "Amazon Customer                                             3.727273                    \n",
              "Chris                                                       0.000000                    \n",
              "Cliente de Amazon                                           3.666667                    \n",
              "Daniel                                                      0.000000                    \n",
              "\n",
              "title_y            Apple iPhone 6S Plus, 64GB, Rose Gold - For AT&T / T-Mobile (Renewed)  \\\n",
              "name                                                                                       \n",
              "Alex                                                             0.0                       \n",
              "Amazon Customer                                                  3.0                       \n",
              "Chris                                                            0.0                       \n",
              "Cliente de Amazon                                                0.0                       \n",
              "Daniel                                                           0.0                       \n",
              "\n",
              "title_y            Apple iPhone 6S Plus, 64GB, Silver - Fully Unlocked (Renewed)  \\\n",
              "name                                                                               \n",
              "Alex                                                             0.0               \n",
              "Amazon Customer                                                  4.0               \n",
              "Chris                                                            0.0               \n",
              "Cliente de Amazon                                                0.0               \n",
              "Daniel                                                           0.0               \n",
              "\n",
              "title_y            Apple iPhone 6S, 128GB, Rose Gold - For AT&T / T-Mobile (Renewed)  \\\n",
              "name                                                                                   \n",
              "Alex                                                             0.0                   \n",
              "Amazon Customer                                                  3.0                   \n",
              "Chris                                                            0.0                   \n",
              "Cliente de Amazon                                                0.0                   \n",
              "Daniel                                                           0.0                   \n",
              "\n",
              "title_y            ...  \\\n",
              "name               ...   \n",
              "Alex               ...   \n",
              "Amazon Customer    ...   \n",
              "Chris              ...   \n",
              "Cliente de Amazon  ...   \n",
              "Daniel             ...   \n",
              "\n",
              "title_y            Xiaomi Redmi Note 7 (64GB, 4GB) 6.3\" Display, 48MP + 5MP AI Dual Rear Camera, Global 4G LTE Dual SIM GSM Factory Unlocked (International Model w/ 64GB MicroSD Bundle) (Black)  \\\n",
              "name                                                                                                                                                                                                \n",
              "Alex                                                             5.0                                                                                                                                \n",
              "Amazon Customer                                                  0.0                                                                                                                                \n",
              "Chris                                                            0.0                                                                                                                                \n",
              "Cliente de Amazon                                                0.0                                                                                                                                \n",
              "Daniel                                                           0.0                                                                                                                                \n",
              "\n",
              "title_y            Xiaomi Redmi Note 7 128GB + 4GB RAM 6.3\" FHD+ LTE Factory Unlocked 48MP GSM Smartphone (Global Version, No Warranty) (Neptune Blue)  \\\n",
              "name                                                                                                                                                     \n",
              "Alex                                                        0.000000                                                                                     \n",
              "Amazon Customer                                             3.833333                                                                                     \n",
              "Chris                                                       0.000000                                                                                     \n",
              "Cliente de Amazon                                           0.000000                                                                                     \n",
              "Daniel                                                      0.000000                                                                                     \n",
              "\n",
              "title_y            Xiaomi Redmi Note 7 128GB + 4GB RAM 6.3\" FHD+ LTE Factory Unlocked 48MP GSM Smartphone (Global Version, No Warranty) (Space Black)  \\\n",
              "name                                                                                                                                                    \n",
              "Alex                                                             5.0                                                                                    \n",
              "Amazon Customer                                                  3.2                                                                                    \n",
              "Chris                                                            5.0                                                                                    \n",
              "Cliente de Amazon                                                0.0                                                                                    \n",
              "Daniel                                                           1.0                                                                                    \n",
              "\n",
              "title_y            Xiaomi Redmi Note 7, 64GB/4GB RAM, 6.30'' FHD+, Snapdragon 660, Black - Unlocked Global Version  \\\n",
              "name                                                                                                                 \n",
              "Alex                                                        3.000000                                                 \n",
              "Amazon Customer                                             4.139535                                                 \n",
              "Chris                                                       4.000000                                                 \n",
              "Cliente de Amazon                                           5.000000                                                 \n",
              "Daniel                                                      0.000000                                                 \n",
              "\n",
              "title_y            Xiaomi Redmi Note 7, 64GB/4GB RAM, 6.30'' FHD+, Snapdragon 660, Blue - Unlocked Global Version, No Warranty  \\\n",
              "name                                                                                                                             \n",
              "Alex                                                        0.000000                                                             \n",
              "Amazon Customer                                             4.346154                                                             \n",
              "Chris                                                       4.000000                                                             \n",
              "Cliente de Amazon                                           0.000000                                                             \n",
              "Daniel                                                      5.000000                                                             \n",
              "\n",
              "title_y            Xiaomi Redmi Note 8 64GB + 4GB RAM, 6.3\" LTE 48MP Factory Unlocked GSM Smartphone - International Version (Moonlight White)  \\\n",
              "name                                                                                                                                             \n",
              "Alex                                                            0.00                                                                             \n",
              "Amazon Customer                                                 3.75                                                                             \n",
              "Chris                                                           0.00                                                                             \n",
              "Cliente de Amazon                                               5.00                                                                             \n",
              "Daniel                                                          0.00                                                                             \n",
              "\n",
              "title_y            Xiaomi Redmi Note 8 64GB + 4GB RAM, 6.3\" LTE 48MP Factory Unlocked GSM Smartphone - International Version (Space Black)  \\\n",
              "name                                                                                                                                         \n",
              "Alex                                                            0.00                                                                         \n",
              "Amazon Customer                                                 3.75                                                                         \n",
              "Chris                                                           0.00                                                                         \n",
              "Cliente de Amazon                                               5.00                                                                         \n",
              "Daniel                                                          0.00                                                                         \n",
              "\n",
              "title_y            Xiaomi Redmi Note 8 Pro (64GB, 6GB) 6.53\", 64MP Quad Camera, Helio G90T Gaming Processor, Dual SIM GSM Unlocked - US & Global 4G LTE International Version (Pearl White, 64 GB)  \\\n",
              "name                                                                                                                                                                                                 \n",
              "Alex                                                            0.00                                                                                                                                 \n",
              "Amazon Customer                                                 4.75                                                                                                                                 \n",
              "Chris                                                           0.00                                                                                                                                 \n",
              "Cliente de Amazon                                               5.00                                                                                                                                 \n",
              "Daniel                                                          0.00                                                                                                                                 \n",
              "\n",
              "title_y            Xiaomi Redmi Note 8 Pro 128GB, 6GB RAM 6.53\" LTE GSM 64MP Smartphone - Global Model (Mineral Grey)  \\\n",
              "name                                                                                                                    \n",
              "Alex                                                        0.000000                                                    \n",
              "Amazon Customer                                             4.333333                                                    \n",
              "Chris                                                       0.000000                                                    \n",
              "Cliente de Amazon                                           0.000000                                                    \n",
              "Daniel                                                      0.000000                                                    \n",
              "\n",
              "title_y            Xiaomi Redmi Note 8 Pro 64GB, 6GB RAM 6.53\" LTE GSM 64MP Factory Unlocked Smartphone - Global Model (Mineral Grey)  \n",
              "name                                                                                                                                   \n",
              "Alex                                                            0.00                                                                   \n",
              "Amazon Customer                                                 4.75                                                                   \n",
              "Chris                                                           0.00                                                                   \n",
              "Cliente de Amazon                                               5.00                                                                   \n",
              "Daniel                                                          0.00                                                                   \n",
              "\n",
              "[5 rows x 544 columns]"
            ],
            "text/html": "<div>\n<style scoped>\n    .dataframe tbody tr th:only-of-type {\n        vertical-align: middle;\n    }\n\n    .dataframe tbody tr th {\n        vertical-align: top;\n    }\n\n    .dataframe thead th {\n        text-align: right;\n    }\n</style>\n<table border=\"1\" class=\"dataframe\">\n  <thead>\n    <tr style=\"text-align: right;\">\n      <th>title_y</th>\n      <th>ASUS ZenFone 5Z (ZS620KL-S845-6G64G) - 6.2” FHD+ 2160x1080 display - 6GB RAM - 64GB storage - LTE Unlocked Dual SIM Cell Phone - US Warranty - Midnight Blue</th>\n      <th>ASUS ZenFone Max Plus ZB570TL-MT67-3G32G-BL - 5.7” 1920x1080-3GB RAM - 32GB storage - LTE Unlocked Dual SIM Cell Phone - US Warranty - Silver</th>\n      <th>Apple MGLW2LL/A iPad Air 2 9.7-Inch Retina Display, 16GB, Wi-Fi (Silver) (Renewed)</th>\n      <th>Apple iPad Air MF529LL/A (32GB, Wi-Fi + at&amp;T, White with Silver) (Renewed)</th>\n      <th>Apple iPad mini 4 (32GB, Wi-Fi + Cellular, Space Gray) (Renewed)</th>\n      <th>Apple iPhone 11 Pro, 64GB, Fully Unlocked - Space Gray (Renewed)</th>\n      <th>Apple iPhone 6S Plus, 16GB, Silver - For AT&amp;T / T-Mobile (Renewed)</th>\n      <th>Apple iPhone 6S Plus, 64GB, Rose Gold - For AT&amp;T / T-Mobile (Renewed)</th>\n      <th>Apple iPhone 6S Plus, 64GB, Silver - Fully Unlocked (Renewed)</th>\n      <th>Apple iPhone 6S, 128GB, Rose Gold - For AT&amp;T / T-Mobile (Renewed)</th>\n      <th>...</th>\n      <th>Xiaomi Redmi Note 7 (64GB, 4GB) 6.3\" Display, 48MP + 5MP AI Dual Rear Camera, Global 4G LTE Dual SIM GSM Factory Unlocked (International Model w/ 64GB MicroSD Bundle) (Black)</th>\n      <th>Xiaomi Redmi Note 7 128GB + 4GB RAM 6.3\" FHD+ LTE Factory Unlocked 48MP GSM Smartphone (Global Version, No Warranty) (Neptune Blue)</th>\n      <th>Xiaomi Redmi Note 7 128GB + 4GB RAM 6.3\" FHD+ LTE Factory Unlocked 48MP GSM Smartphone (Global Version, No Warranty) (Space Black)</th>\n      <th>Xiaomi Redmi Note 7, 64GB/4GB RAM, 6.30'' FHD+, Snapdragon 660, Black - Unlocked Global Version</th>\n      <th>Xiaomi Redmi Note 7, 64GB/4GB RAM, 6.30'' FHD+, Snapdragon 660, Blue - Unlocked Global Version, No Warranty</th>\n      <th>Xiaomi Redmi Note 8 64GB + 4GB RAM, 6.3\" LTE 48MP Factory Unlocked GSM Smartphone - International Version (Moonlight White)</th>\n      <th>Xiaomi Redmi Note 8 64GB + 4GB RAM, 6.3\" LTE 48MP Factory Unlocked GSM Smartphone - International Version (Space Black)</th>\n      <th>Xiaomi Redmi Note 8 Pro (64GB, 6GB) 6.53\", 64MP Quad Camera, Helio G90T Gaming Processor, Dual SIM GSM Unlocked - US &amp; Global 4G LTE International Version (Pearl White, 64 GB)</th>\n      <th>Xiaomi Redmi Note 8 Pro 128GB, 6GB RAM 6.53\" LTE GSM 64MP Smartphone - Global Model (Mineral Grey)</th>\n      <th>Xiaomi Redmi Note 8 Pro 64GB, 6GB RAM 6.53\" LTE GSM 64MP Factory Unlocked Smartphone - Global Model (Mineral Grey)</th>\n    </tr>\n    <tr>\n      <th>name</th>\n      <th></th>\n      <th></th>\n      <th></th>\n      <th></th>\n      <th></th>\n      <th></th>\n      <th></th>\n      <th></th>\n      <th></th>\n      <th></th>\n      <th></th>\n      <th></th>\n      <th></th>\n      <th></th>\n      <th></th>\n      <th></th>\n      <th></th>\n      <th></th>\n      <th></th>\n      <th></th>\n      <th></th>\n    </tr>\n  </thead>\n  <tbody>\n    <tr>\n      <th>Alex</th>\n      <td>0.0</td>\n      <td>0.000000</td>\n      <td>0.000000</td>\n      <td>0.0</td>\n      <td>0.0</td>\n      <td>0.0</td>\n      <td>0.000000</td>\n      <td>0.0</td>\n      <td>0.0</td>\n      <td>0.0</td>\n      <td>...</td>\n      <td>5.0</td>\n      <td>0.000000</td>\n      <td>5.0</td>\n      <td>3.000000</td>\n      <td>0.000000</td>\n      <td>0.00</td>\n      <td>0.00</td>\n      <td>0.00</td>\n      <td>0.000000</td>\n      <td>0.00</td>\n    </tr>\n    <tr>\n      <th>Amazon Customer</th>\n      <td>4.8</td>\n      <td>4.285714</td>\n      <td>4.461538</td>\n      <td>2.5</td>\n      <td>5.0</td>\n      <td>1.0</td>\n      <td>3.727273</td>\n      <td>3.0</td>\n      <td>4.0</td>\n      <td>3.0</td>\n      <td>...</td>\n      <td>0.0</td>\n      <td>3.833333</td>\n      <td>3.2</td>\n      <td>4.139535</td>\n      <td>4.346154</td>\n      <td>3.75</td>\n      <td>3.75</td>\n      <td>4.75</td>\n      <td>4.333333</td>\n      <td>4.75</td>\n    </tr>\n    <tr>\n      <th>Chris</th>\n      <td>0.0</td>\n      <td>0.000000</td>\n      <td>0.000000</td>\n      <td>0.0</td>\n      <td>0.0</td>\n      <td>0.0</td>\n      <td>0.000000</td>\n      <td>0.0</td>\n      <td>0.0</td>\n      <td>0.0</td>\n      <td>...</td>\n      <td>0.0</td>\n      <td>0.000000</td>\n      <td>5.0</td>\n      <td>4.000000</td>\n      <td>4.000000</td>\n      <td>0.00</td>\n      <td>0.00</td>\n      <td>0.00</td>\n      <td>0.000000</td>\n      <td>0.00</td>\n    </tr>\n    <tr>\n      <th>Cliente de Amazon</th>\n      <td>5.0</td>\n      <td>4.000000</td>\n      <td>0.000000</td>\n      <td>0.0</td>\n      <td>0.0</td>\n      <td>0.0</td>\n      <td>3.666667</td>\n      <td>0.0</td>\n      <td>0.0</td>\n      <td>0.0</td>\n      <td>...</td>\n      <td>0.0</td>\n      <td>0.000000</td>\n      <td>0.0</td>\n      <td>5.000000</td>\n      <td>0.000000</td>\n      <td>5.00</td>\n      <td>5.00</td>\n      <td>5.00</td>\n      <td>0.000000</td>\n      <td>5.00</td>\n    </tr>\n    <tr>\n      <th>Daniel</th>\n      <td>0.0</td>\n      <td>0.000000</td>\n      <td>0.000000</td>\n      <td>0.0</td>\n      <td>0.0</td>\n      <td>0.0</td>\n      <td>0.000000</td>\n      <td>0.0</td>\n      <td>0.0</td>\n      <td>0.0</td>\n      <td>...</td>\n      <td>0.0</td>\n      <td>0.000000</td>\n      <td>1.0</td>\n      <td>0.000000</td>\n      <td>5.000000</td>\n      <td>0.00</td>\n      <td>0.00</td>\n      <td>0.00</td>\n      <td>0.000000</td>\n      <td>0.00</td>\n    </tr>\n  </tbody>\n</table>\n<p>5 rows × 544 columns</p>\n</div>"
          },
          "metadata": {},
          "execution_count": 34
        }
      ],
      "source": [
        "#Evaluasi model\n",
        "final_ratings_matrix.head()"
      ]
    },
    {
      "cell_type": "code",
      "execution_count": null,
      "metadata": {
        "id": "DxvOTiXFOARd",
        "outputId": "fc7f3eb2-402d-49e0-9aae-c76be955b208"
      },
      "outputs": [
        {
          "output_type": "execute_result",
          "data": {
            "text/plain": [
              "title_y\n",
              "ASUS ZenFone 5Z (ZS620KL-S845-6G64G) - 6.2” FHD+ 2160x1080 display - 6GB RAM - 64GB storage - LTE Unlocked Dual SIM Cell Phone - US Warranty - Midnight Blue    0.890909\n",
              "ASUS ZenFone Max Plus ZB570TL-MT67-3G32G-BL - 5.7” 1920x1080-3GB RAM - 32GB storage - LTE Unlocked Dual SIM Cell Phone - US Warranty - Silver                   0.844156\n",
              "Apple MGLW2LL/A iPad Air 2 9.7-Inch Retina Display, 16GB, Wi-Fi (Silver) (Renewed)                                                                              0.860140\n",
              "Apple iPad Air MF529LL/A (32GB, Wi-Fi + at&T, White with Silver) (Renewed)                                                                                      0.227273\n",
              "Apple iPad mini 4 (32GB, Wi-Fi + Cellular, Space Gray) (Renewed)                                                                                                0.454545\n",
              "dtype: float64"
            ]
          },
          "metadata": {},
          "execution_count": 35
        }
      ],
      "source": [
        "#Rata rata ACTUAL rating untuk setiap item\n",
        "final_ratings_matrix.mean().head()"
      ]
    },
    {
      "cell_type": "code",
      "execution_count": null,
      "metadata": {
        "id": "HuhPBUYaOARd",
        "outputId": "385dfe47-38bf-456f-b8e9-474b363f87e7"
      },
      "outputs": [
        {
          "output_type": "execute_result",
          "data": {
            "text/plain": [
              "title_y  ASUS ZenFone 5Z (ZS620KL-S845-6G64G) - 6.2” FHD+ 2160x1080 display - 6GB RAM - 64GB storage - LTE Unlocked Dual SIM Cell Phone - US Warranty - Midnight Blue  \\\n",
              "0                                                 0.566869                                                                                                              \n",
              "1                                                 4.971791                                                                                                              \n",
              "2                                                -0.412390                                                                                                              \n",
              "3                                                 3.003619                                                                                                              \n",
              "4                                                 0.162604                                                                                                              \n",
              "\n",
              "title_y  ASUS ZenFone Max Plus ZB570TL-MT67-3G32G-BL - 5.7” 1920x1080-3GB RAM - 32GB storage - LTE Unlocked Dual SIM Cell Phone - US Warranty - Silver  \\\n",
              "0                                                 0.524041                                                                                               \n",
              "1                                                 4.418183                                                                                               \n",
              "2                                                -0.359164                                                                                               \n",
              "3                                                 2.444426                                                                                               \n",
              "4                                                 0.169483                                                                                               \n",
              "\n",
              "title_y  Apple MGLW2LL/A iPad Air 2 9.7-Inch Retina Display, 16GB, Wi-Fi (Silver) (Renewed)  \\\n",
              "0                                                 1.094380                                    \n",
              "1                                                 4.322717                                    \n",
              "2                                                 0.371140                                    \n",
              "3                                                 1.774161                                    \n",
              "4                                                 0.879300                                    \n",
              "\n",
              "title_y  Apple iPad Air MF529LL/A (32GB, Wi-Fi + at&T, White with Silver) (Renewed)  \\\n",
              "0                                                -0.039902                            \n",
              "1                                                 2.488917                            \n",
              "2                                                -0.044709                            \n",
              "3                                                 0.096535                            \n",
              "4                                                 0.013190                            \n",
              "\n",
              "title_y  Apple iPad mini 4 (32GB, Wi-Fi + Cellular, Space Gray) (Renewed)  \\\n",
              "0                                                -0.079803                  \n",
              "1                                                 4.977834                  \n",
              "2                                                -0.089417                  \n",
              "3                                                 0.193070                  \n",
              "4                                                 0.026379                  \n",
              "\n",
              "title_y  Apple iPhone 11 Pro, 64GB, Fully Unlocked - Space Gray (Renewed)  \\\n",
              "0                                                -0.015961                  \n",
              "1                                                 0.995567                  \n",
              "2                                                -0.017883                  \n",
              "3                                                 0.038614                  \n",
              "4                                                 0.005276                  \n",
              "\n",
              "title_y  Apple iPhone 6S Plus, 16GB, Silver - For AT&T / T-Mobile (Renewed)  \\\n",
              "0                                                 0.754850                    \n",
              "1                                                 3.852206                    \n",
              "2                                                 0.254979                    \n",
              "3                                                 2.448613                    \n",
              "4                                                 0.431809                    \n",
              "\n",
              "title_y  Apple iPhone 6S Plus, 64GB, Rose Gold - For AT&T / T-Mobile (Renewed)  \\\n",
              "0                                                -0.047882                       \n",
              "1                                                 2.986700                       \n",
              "2                                                -0.053650                       \n",
              "3                                                 0.115842                       \n",
              "4                                                 0.015828                       \n",
              "\n",
              "title_y  Apple iPhone 6S Plus, 64GB, Silver - Fully Unlocked (Renewed)  \\\n",
              "0                                                -0.063843               \n",
              "1                                                 3.982267               \n",
              "2                                                -0.071534               \n",
              "3                                                 0.154456               \n",
              "4                                                 0.021103               \n",
              "\n",
              "title_y  Apple iPhone 6S, 128GB, Rose Gold - For AT&T / T-Mobile (Renewed)  \\\n",
              "0                                                -0.047882                   \n",
              "1                                                 2.986700                   \n",
              "2                                                -0.053650                   \n",
              "3                                                 0.115842                   \n",
              "4                                                 0.015828                   \n",
              "\n",
              "title_y  ...  \\\n",
              "0        ...   \n",
              "1        ...   \n",
              "2        ...   \n",
              "3        ...   \n",
              "4        ...   \n",
              "\n",
              "title_y  Xiaomi Redmi Note 7 (64GB, 4GB) 6.3\" Display, 48MP + 5MP AI Dual Rear Camera, Global 4G LTE Dual SIM GSM Factory Unlocked (International Model w/ 64GB MicroSD Bundle) (Black)  \\\n",
              "0                                                 0.644624                                                                                                                                \n",
              "1                                                -0.079803                                                                                                                                \n",
              "2                                                 0.266949                                                                                                                                \n",
              "3                                                 0.643481                                                                                                                                \n",
              "4                                                 0.494736                                                                                                                                \n",
              "\n",
              "title_y  Xiaomi Redmi Note 7 128GB + 4GB RAM 6.3\" FHD+ LTE Factory Unlocked 48MP GSM Smartphone (Global Version, No Warranty) (Neptune Blue)  \\\n",
              "0                                                -0.061183                                                                                     \n",
              "1                                                 3.816339                                                                                     \n",
              "2                                                -0.068553                                                                                     \n",
              "3                                                 0.148020                                                                                     \n",
              "4                                                 0.020224                                                                                     \n",
              "\n",
              "title_y  Xiaomi Redmi Note 7 128GB + 4GB RAM 6.3\" FHD+ LTE Factory Unlocked 48MP GSM Smartphone (Global Version, No Warranty) (Space Black)  \\\n",
              "0                                                 1.865850                                                                                    \n",
              "1                                                 2.918998                                                                                    \n",
              "2                                                 2.931252                                                                                    \n",
              "3                                                 2.329761                                                                                    \n",
              "4                                                 1.614506                                                                                    \n",
              "\n",
              "title_y  Xiaomi Redmi Note 7, 64GB/4GB RAM, 6.30'' FHD+, Snapdragon 660, Black - Unlocked Global Version  \\\n",
              "0                                                 1.410722                                                 \n",
              "1                                                 4.185875                                                 \n",
              "2                                                 0.796110                                                 \n",
              "3                                                 3.175923                                                 \n",
              "4                                                 0.873404                                                 \n",
              "\n",
              "title_y  Xiaomi Redmi Note 7, 64GB/4GB RAM, 6.30'' FHD+, Snapdragon 660, Blue - Unlocked Global Version, No Warranty  \\\n",
              "0                                                 1.634230                                                             \n",
              "1                                                 4.432123                                                             \n",
              "2                                                 2.552452                                                             \n",
              "3                                                -0.990359                                                             \n",
              "4                                                 1.779540                                                             \n",
              "\n",
              "title_y  Xiaomi Redmi Note 8 64GB + 4GB RAM, 6.3\" LTE 48MP Factory Unlocked GSM Smartphone - International Version (Moonlight White)  \\\n",
              "0                                                 0.583628                                                                             \n",
              "1                                                 3.926446                                                                             \n",
              "2                                                -0.393613                                                                             \n",
              "3                                                 2.963074                                                                             \n",
              "4                                                 0.157065                                                                             \n",
              "\n",
              "title_y  Xiaomi Redmi Note 8 64GB + 4GB RAM, 6.3\" LTE 48MP Factory Unlocked GSM Smartphone - International Version (Space Black)  \\\n",
              "0                                                 0.583628                                                                         \n",
              "1                                                 3.926446                                                                         \n",
              "2                                                -0.393613                                                                         \n",
              "3                                                 2.963074                                                                         \n",
              "4                                                 0.157065                                                                         \n",
              "\n",
              "title_y  Xiaomi Redmi Note 8 Pro (64GB, 6GB) 6.53\", 64MP Quad Camera, Helio G90T Gaming Processor, Dual SIM GSM Unlocked - US & Global 4G LTE International Version (Pearl White, 64 GB)  \\\n",
              "0                                                 0.990223                                                                                                                                 \n",
              "1                                                 4.886411                                                                                                                                 \n",
              "2                                                 1.026759                                                                                                                                 \n",
              "3                                                 4.197251                                                                                                                                 \n",
              "4                                                 0.313164                                                                                                                                 \n",
              "\n",
              "title_y  Xiaomi Redmi Note 8 Pro 128GB, 6GB RAM 6.53\" LTE GSM 64MP Smartphone - Global Model (Mineral Grey)  \\\n",
              "0                                                 0.241473                                                    \n",
              "1                                                 4.302172                                                    \n",
              "2                                                -0.162619                                                    \n",
              "3                                                 0.264606                                                    \n",
              "4                                                 0.171055                                                    \n",
              "\n",
              "title_y  Xiaomi Redmi Note 8 Pro 64GB, 6GB RAM 6.53\" LTE GSM 64MP Factory Unlocked Smartphone - Global Model (Mineral Grey)  \n",
              "0                                                 0.990223                                                                   \n",
              "1                                                 4.886411                                                                   \n",
              "2                                                 1.026759                                                                   \n",
              "3                                                 4.197251                                                                   \n",
              "4                                                 0.313164                                                                   \n",
              "\n",
              "[5 rows x 544 columns]"
            ],
            "text/html": "<div>\n<style scoped>\n    .dataframe tbody tr th:only-of-type {\n        vertical-align: middle;\n    }\n\n    .dataframe tbody tr th {\n        vertical-align: top;\n    }\n\n    .dataframe thead th {\n        text-align: right;\n    }\n</style>\n<table border=\"1\" class=\"dataframe\">\n  <thead>\n    <tr style=\"text-align: right;\">\n      <th>title_y</th>\n      <th>ASUS ZenFone 5Z (ZS620KL-S845-6G64G) - 6.2” FHD+ 2160x1080 display - 6GB RAM - 64GB storage - LTE Unlocked Dual SIM Cell Phone - US Warranty - Midnight Blue</th>\n      <th>ASUS ZenFone Max Plus ZB570TL-MT67-3G32G-BL - 5.7” 1920x1080-3GB RAM - 32GB storage - LTE Unlocked Dual SIM Cell Phone - US Warranty - Silver</th>\n      <th>Apple MGLW2LL/A iPad Air 2 9.7-Inch Retina Display, 16GB, Wi-Fi (Silver) (Renewed)</th>\n      <th>Apple iPad Air MF529LL/A (32GB, Wi-Fi + at&amp;T, White with Silver) (Renewed)</th>\n      <th>Apple iPad mini 4 (32GB, Wi-Fi + Cellular, Space Gray) (Renewed)</th>\n      <th>Apple iPhone 11 Pro, 64GB, Fully Unlocked - Space Gray (Renewed)</th>\n      <th>Apple iPhone 6S Plus, 16GB, Silver - For AT&amp;T / T-Mobile (Renewed)</th>\n      <th>Apple iPhone 6S Plus, 64GB, Rose Gold - For AT&amp;T / T-Mobile (Renewed)</th>\n      <th>Apple iPhone 6S Plus, 64GB, Silver - Fully Unlocked (Renewed)</th>\n      <th>Apple iPhone 6S, 128GB, Rose Gold - For AT&amp;T / T-Mobile (Renewed)</th>\n      <th>...</th>\n      <th>Xiaomi Redmi Note 7 (64GB, 4GB) 6.3\" Display, 48MP + 5MP AI Dual Rear Camera, Global 4G LTE Dual SIM GSM Factory Unlocked (International Model w/ 64GB MicroSD Bundle) (Black)</th>\n      <th>Xiaomi Redmi Note 7 128GB + 4GB RAM 6.3\" FHD+ LTE Factory Unlocked 48MP GSM Smartphone (Global Version, No Warranty) (Neptune Blue)</th>\n      <th>Xiaomi Redmi Note 7 128GB + 4GB RAM 6.3\" FHD+ LTE Factory Unlocked 48MP GSM Smartphone (Global Version, No Warranty) (Space Black)</th>\n      <th>Xiaomi Redmi Note 7, 64GB/4GB RAM, 6.30'' FHD+, Snapdragon 660, Black - Unlocked Global Version</th>\n      <th>Xiaomi Redmi Note 7, 64GB/4GB RAM, 6.30'' FHD+, Snapdragon 660, Blue - Unlocked Global Version, No Warranty</th>\n      <th>Xiaomi Redmi Note 8 64GB + 4GB RAM, 6.3\" LTE 48MP Factory Unlocked GSM Smartphone - International Version (Moonlight White)</th>\n      <th>Xiaomi Redmi Note 8 64GB + 4GB RAM, 6.3\" LTE 48MP Factory Unlocked GSM Smartphone - International Version (Space Black)</th>\n      <th>Xiaomi Redmi Note 8 Pro (64GB, 6GB) 6.53\", 64MP Quad Camera, Helio G90T Gaming Processor, Dual SIM GSM Unlocked - US &amp; Global 4G LTE International Version (Pearl White, 64 GB)</th>\n      <th>Xiaomi Redmi Note 8 Pro 128GB, 6GB RAM 6.53\" LTE GSM 64MP Smartphone - Global Model (Mineral Grey)</th>\n      <th>Xiaomi Redmi Note 8 Pro 64GB, 6GB RAM 6.53\" LTE GSM 64MP Factory Unlocked Smartphone - Global Model (Mineral Grey)</th>\n    </tr>\n  </thead>\n  <tbody>\n    <tr>\n      <th>0</th>\n      <td>0.566869</td>\n      <td>0.524041</td>\n      <td>1.094380</td>\n      <td>-0.039902</td>\n      <td>-0.079803</td>\n      <td>-0.015961</td>\n      <td>0.754850</td>\n      <td>-0.047882</td>\n      <td>-0.063843</td>\n      <td>-0.047882</td>\n      <td>...</td>\n      <td>0.644624</td>\n      <td>-0.061183</td>\n      <td>1.865850</td>\n      <td>1.410722</td>\n      <td>1.634230</td>\n      <td>0.583628</td>\n      <td>0.583628</td>\n      <td>0.990223</td>\n      <td>0.241473</td>\n      <td>0.990223</td>\n    </tr>\n    <tr>\n      <th>1</th>\n      <td>4.971791</td>\n      <td>4.418183</td>\n      <td>4.322717</td>\n      <td>2.488917</td>\n      <td>4.977834</td>\n      <td>0.995567</td>\n      <td>3.852206</td>\n      <td>2.986700</td>\n      <td>3.982267</td>\n      <td>2.986700</td>\n      <td>...</td>\n      <td>-0.079803</td>\n      <td>3.816339</td>\n      <td>2.918998</td>\n      <td>4.185875</td>\n      <td>4.432123</td>\n      <td>3.926446</td>\n      <td>3.926446</td>\n      <td>4.886411</td>\n      <td>4.302172</td>\n      <td>4.886411</td>\n    </tr>\n    <tr>\n      <th>2</th>\n      <td>-0.412390</td>\n      <td>-0.359164</td>\n      <td>0.371140</td>\n      <td>-0.044709</td>\n      <td>-0.089417</td>\n      <td>-0.017883</td>\n      <td>0.254979</td>\n      <td>-0.053650</td>\n      <td>-0.071534</td>\n      <td>-0.053650</td>\n      <td>...</td>\n      <td>0.266949</td>\n      <td>-0.068553</td>\n      <td>2.931252</td>\n      <td>0.796110</td>\n      <td>2.552452</td>\n      <td>-0.393613</td>\n      <td>-0.393613</td>\n      <td>1.026759</td>\n      <td>-0.162619</td>\n      <td>1.026759</td>\n    </tr>\n    <tr>\n      <th>3</th>\n      <td>3.003619</td>\n      <td>2.444426</td>\n      <td>1.774161</td>\n      <td>0.096535</td>\n      <td>0.193070</td>\n      <td>0.038614</td>\n      <td>2.448613</td>\n      <td>0.115842</td>\n      <td>0.154456</td>\n      <td>0.115842</td>\n      <td>...</td>\n      <td>0.643481</td>\n      <td>0.148020</td>\n      <td>2.329761</td>\n      <td>3.175923</td>\n      <td>-0.990359</td>\n      <td>2.963074</td>\n      <td>2.963074</td>\n      <td>4.197251</td>\n      <td>0.264606</td>\n      <td>4.197251</td>\n    </tr>\n    <tr>\n      <th>4</th>\n      <td>0.162604</td>\n      <td>0.169483</td>\n      <td>0.879300</td>\n      <td>0.013190</td>\n      <td>0.026379</td>\n      <td>0.005276</td>\n      <td>0.431809</td>\n      <td>0.015828</td>\n      <td>0.021103</td>\n      <td>0.015828</td>\n      <td>...</td>\n      <td>0.494736</td>\n      <td>0.020224</td>\n      <td>1.614506</td>\n      <td>0.873404</td>\n      <td>1.779540</td>\n      <td>0.157065</td>\n      <td>0.157065</td>\n      <td>0.313164</td>\n      <td>0.171055</td>\n      <td>0.313164</td>\n    </tr>\n  </tbody>\n</table>\n<p>5 rows × 544 columns</p>\n</div>"
          },
          "metadata": {},
          "execution_count": 36
        }
      ],
      "source": [
        "# Predicted ratings \n",
        "preds_df.head()"
      ]
    },
    {
      "cell_type": "code",
      "execution_count": null,
      "metadata": {
        "id": "rNpoUiJ4OARd",
        "outputId": "b57e83ed-ba54-4ce1-b5d2-04e7d3cd019d"
      },
      "outputs": [
        {
          "output_type": "execute_result",
          "data": {
            "text/plain": [
              "title_y\n",
              "ASUS ZenFone 5Z (ZS620KL-S845-6G64G) - 6.2” FHD+ 2160x1080 display - 6GB RAM - 64GB storage - LTE Unlocked Dual SIM Cell Phone - US Warranty - Midnight Blue    0.818092\n",
              "ASUS ZenFone Max Plus ZB570TL-MT67-3G32G-BL - 5.7” 1920x1080-3GB RAM - 32GB storage - LTE Unlocked Dual SIM Cell Phone - US Warranty - Silver                   0.792555\n",
              "Apple MGLW2LL/A iPad Air 2 9.7-Inch Retina Display, 16GB, Wi-Fi (Silver) (Renewed)                                                                              1.042048\n",
              "Apple iPad Air MF529LL/A (32GB, Wi-Fi + at&T, White with Silver) (Renewed)                                                                                      0.232567\n",
              "Apple iPad mini 4 (32GB, Wi-Fi + Cellular, Space Gray) (Renewed)                                                                                                0.465134\n",
              "dtype: float64"
            ]
          },
          "metadata": {},
          "execution_count": 37
        }
      ],
      "source": [
        "#Rata rata PREDICTED rating untuk setiap item\n",
        "preds_df.mean().head()"
      ]
    },
    {
      "cell_type": "code",
      "execution_count": null,
      "metadata": {
        "id": "_rsTgAvzOARd",
        "outputId": "d06abb84-85b6-4e85-982c-0e7754bf2412"
      },
      "outputs": [
        {
          "output_type": "stream",
          "name": "stdout",
          "text": [
            "(544, 2)\n"
          ]
        },
        {
          "output_type": "execute_result",
          "data": {
            "text/plain": [
              "                                                    Avg_actual_ratings  \\\n",
              "title_y                                                                  \n",
              "ASUS ZenFone 5Z (ZS620KL-S845-6G64G) - 6.2” FHD...            0.890909   \n",
              "ASUS ZenFone Max Plus ZB570TL-MT67-3G32G-BL - 5...            0.844156   \n",
              "Apple MGLW2LL/A iPad Air 2 9.7-Inch Retina Disp...            0.860140   \n",
              "Apple iPad Air MF529LL/A (32GB, Wi-Fi + at&T, W...            0.227273   \n",
              "Apple iPad mini 4 (32GB, Wi-Fi + Cellular, Spac...            0.454545   \n",
              "\n",
              "                                                    Avg_predicted_ratings  \\\n",
              "title_y                                                                     \n",
              "ASUS ZenFone 5Z (ZS620KL-S845-6G64G) - 6.2” FHD...               0.818092   \n",
              "ASUS ZenFone Max Plus ZB570TL-MT67-3G32G-BL - 5...               0.792555   \n",
              "Apple MGLW2LL/A iPad Air 2 9.7-Inch Retina Disp...               1.042048   \n",
              "Apple iPad Air MF529LL/A (32GB, Wi-Fi + at&T, W...               0.232567   \n",
              "Apple iPad mini 4 (32GB, Wi-Fi + Cellular, Spac...               0.465134   \n",
              "\n",
              "                                                    item_index  \n",
              "title_y                                                         \n",
              "ASUS ZenFone 5Z (ZS620KL-S845-6G64G) - 6.2” FHD...           0  \n",
              "ASUS ZenFone Max Plus ZB570TL-MT67-3G32G-BL - 5...           1  \n",
              "Apple MGLW2LL/A iPad Air 2 9.7-Inch Retina Disp...           2  \n",
              "Apple iPad Air MF529LL/A (32GB, Wi-Fi + at&T, W...           3  \n",
              "Apple iPad mini 4 (32GB, Wi-Fi + Cellular, Spac...           4  "
            ],
            "text/html": "<div>\n<style scoped>\n    .dataframe tbody tr th:only-of-type {\n        vertical-align: middle;\n    }\n\n    .dataframe tbody tr th {\n        vertical-align: top;\n    }\n\n    .dataframe thead th {\n        text-align: right;\n    }\n</style>\n<table border=\"1\" class=\"dataframe\">\n  <thead>\n    <tr style=\"text-align: right;\">\n      <th></th>\n      <th>Avg_actual_ratings</th>\n      <th>Avg_predicted_ratings</th>\n      <th>item_index</th>\n    </tr>\n    <tr>\n      <th>title_y</th>\n      <th></th>\n      <th></th>\n      <th></th>\n    </tr>\n  </thead>\n  <tbody>\n    <tr>\n      <th>ASUS ZenFone 5Z (ZS620KL-S845-6G64G) - 6.2” FHD+ 2160x1080 display - 6GB RAM - 64GB storage - LTE Unlocked Dual SIM Cell Phone - US Warranty - Midnight Blue</th>\n      <td>0.890909</td>\n      <td>0.818092</td>\n      <td>0</td>\n    </tr>\n    <tr>\n      <th>ASUS ZenFone Max Plus ZB570TL-MT67-3G32G-BL - 5.7” 1920x1080-3GB RAM - 32GB storage - LTE Unlocked Dual SIM Cell Phone - US Warranty - Silver</th>\n      <td>0.844156</td>\n      <td>0.792555</td>\n      <td>1</td>\n    </tr>\n    <tr>\n      <th>Apple MGLW2LL/A iPad Air 2 9.7-Inch Retina Display, 16GB, Wi-Fi (Silver) (Renewed)</th>\n      <td>0.860140</td>\n      <td>1.042048</td>\n      <td>2</td>\n    </tr>\n    <tr>\n      <th>Apple iPad Air MF529LL/A (32GB, Wi-Fi + at&amp;T, White with Silver) (Renewed)</th>\n      <td>0.227273</td>\n      <td>0.232567</td>\n      <td>3</td>\n    </tr>\n    <tr>\n      <th>Apple iPad mini 4 (32GB, Wi-Fi + Cellular, Space Gray) (Renewed)</th>\n      <td>0.454545</td>\n      <td>0.465134</td>\n      <td>4</td>\n    </tr>\n  </tbody>\n</table>\n</div>"
          },
          "metadata": {},
          "execution_count": 38
        }
      ],
      "source": [
        "rmse_df = pd.concat([final_ratings_matrix.mean(), preds_df.mean()], axis=1)\n",
        "rmse_df.columns = ['Avg_actual_ratings', 'Avg_predicted_ratings']\n",
        "print(rmse_df.shape)\n",
        "rmse_df['item_index'] = np.arange(0, rmse_df.shape[0], 1)\n",
        "rmse_df.head()"
      ]
    },
    {
      "cell_type": "code",
      "execution_count": null,
      "metadata": {
        "id": "TthTo9IXOARd",
        "outputId": "e6ced603-7e5b-43ed-8882-dfe27efc8b5c"
      },
      "outputs": [
        {
          "output_type": "stream",
          "name": "stdout",
          "text": [
            "\nRMSE SVD Model = 0.07124 \n\n"
          ]
        }
      ],
      "source": [
        "RMSE = round((((rmse_df.Avg_actual_ratings - rmse_df.Avg_predicted_ratings) ** 2).mean() ** 0.5), 5)\n",
        "print('\\nRMSE SVD Model = {} \\n'.format(RMSE))"
      ]
    },
    {
      "cell_type": "code",
      "execution_count": null,
      "metadata": {
        "id": "NMVqDGl-OARe"
      },
      "outputs": [],
      "source": []
    }
  ],
  "metadata": {
    "kernelspec": {
      "display_name": "Python 3",
      "language": "python",
      "name": "python3"
    },
    "language_info": {
      "codemirror_mode": {
        "name": "ipython",
        "version": 3
      },
      "file_extension": ".py",
      "mimetype": "text/x-python",
      "name": "python",
      "nbconvert_exporter": "python",
      "pygments_lexer": "ipython3",
      "version": "3.7.9-final"
    },
    "colab": {
      "provenance": []
    }
  },
  "nbformat": 4,
  "nbformat_minor": 0
}